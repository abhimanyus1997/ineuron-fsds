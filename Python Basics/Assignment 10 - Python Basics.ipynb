{
 "cells": [
  {
   "cell_type": "markdown",
   "id": "9454eb32-f8a2-4a0d-b9e8-460a697c9728",
   "metadata": {},
   "source": [
    "# Assignment 10 - Python Basics"
   ]
  },
  {
   "cell_type": "markdown",
   "id": "d7faf05c-de2d-47b8-b2d4-d223a32cfc21",
   "metadata": {},
   "source": [
    "## 1. How do you distinguish between shutil.copy() and shutil.copytree()?\n",
    "\n",
    "Shutil module offers high-level operation on a file like a copy, create, and remote operation on the file. It comes under Python’s standard utility modules\n",
    "  \n",
    "  \n",
    "* **`shutil.copy()`** method in Python is used to copy the content of the source file to the destination file or directory.\n",
    "    * It also preserves the file’s permission mode but other metadata of the file like the file’s creation and modification times is not preserved.\n",
    "    * **Syntax:** `shutil.copy(source, destination, *, follow_symlinks = True)`\n",
    "    * `shutil.copy2()` method in Python is used to copy the content of the source file to the destination file or directory. It also tries to preserve the file’s metadata.\n",
    "   \n",
    "   \n",
    "* **`shutil.copytree()`** method recursively copies an entire directory tree rooted at source (src) to the destination directory. The destination directory, named by (dst) must not already exist. It will be created during copying.\n",
    "    * **Syntax:** `shutil.copytree(src, dst, symlinks = False, ignore = None, copy_function = copy2, ignore_dangling_symlinks = False)`"
   ]
  },
  {
   "cell_type": "markdown",
   "id": "f48c2666-c261-4d1e-a0e6-da3b3a7031ff",
   "metadata": {},
   "source": [
    "## 2. What function is used to rename files??\n",
    "`os.rename()` method in Python is used to rename a file or directory."
   ]
  },
  {
   "cell_type": "markdown",
   "id": "f362da6f-62f9-4f86-a9bf-bfb261d3ff62",
   "metadata": {},
   "source": [
    "## 3. What is the difference between the delete functions in the send2trash and shutil modules?\n",
    "\n",
    "* `Send2Trash` is a small package that sends files to the Trash (or Recycle Bin) natively and on all platforms using `send2trash()` method\n",
    "\n",
    "```python\n",
    "!pip install send2trash\n",
    "import send2trash\n",
    "send2trash.send2trash(\"/location/to/file\")\n",
    "  ```\n",
    "  \n",
    "* `shutil.rmtree()` is used to delete an entire directory tree, the path must point to a directory (but not a symbolic link to a directory).\n",
    "\n",
    "```python\n",
    "import shutil\n",
    "# removing directory\n",
    "shutil.rmtree(\"/location/to/file's/parent/directory\")\n",
    "```\n",
    "\n",
    "*  The other functions with similar functionality are\n",
    "    * `os.remove()` removes a file, \n",
    "    * `os.rmdir()` removes a empty directory.\n"
   ]
  },
  {
   "cell_type": "markdown",
   "id": "e0952c5e-173a-42fc-b097-c35068c6560a",
   "metadata": {
    "tags": []
   },
   "source": [
    "## 4.ZipFile objects have a close() method just like File objects’ close() method. What ZipFile method is equivalent to File objects’ open() method?\n",
    "\n",
    "Python’s zipfile is a standard library module intended to manipulate ZIP files\n",
    "ZipFile Module provides a method called as `zipfile.ZipFile()` to read and write to zipFiles. it takes arugments lile filename and mode etc `zipfile.ZipFile('filename', mode = 'r')`"
   ]
  },
  {
   "cell_type": "code",
   "execution_count": 87,
   "id": "a001a208-1362-4b93-8703-5fd39ee3933f",
   "metadata": {},
   "outputs": [
    {
     "name": "stdout",
     "output_type": "stream",
     "text": [
      "File Name                                             Modified             Size\n",
      "testfile1.txt                                  2022-08-31 01:13:24            0\n",
      "testfile2.txt                                  2022-08-31 01:13:56           23\n",
      "folder_in_zip/                                 2022-08-31 01:14:36            0\n",
      "folder_in_zip/empty_img.bmp                    2022-08-31 01:14:32            0\n"
     ]
    }
   ],
   "source": [
    "# Finding contenet of sample.zip\n",
    "import zipfile\n",
    "\n",
    "# Try Block\n",
    "try:\n",
    "    with zipfile.ZipFile(\"sample.zip\", mode=\"r\") as archive:\n",
    "        archive.printdir() #Function to output File Name - Modified - Size\n",
    "\n",
    "# Error Haandling if ZIp is corrupted\n",
    "except zipfile.BadZipFile as error:\n",
    "    print(error)"
   ]
  },
  {
   "cell_type": "markdown",
   "id": "4e0750dc-bd6c-449f-9ebd-d00cf89fb957",
   "metadata": {},
   "source": [
    "## 5. Create a programme that searches a folder tree for files with a certain file extension (such as .pdf or .jpg). Copy these files from whatever location they are in to a new folder."
   ]
  },
  {
   "cell_type": "code",
   "execution_count": null,
   "id": "27a27875-1f29-4ea5-b2fc-f785a1666f00",
   "metadata": {},
   "outputs": [],
   "source": [
    "Cre"
   ]
  },
  {
   "cell_type": "code",
   "execution_count": 88,
   "id": "362c934e-64c6-4145-9ec9-b911467bafda",
   "metadata": {},
   "outputs": [],
   "source": [
    "import os\n",
    "import shutil\n",
    "\n",
    "class copier:\n",
    "    def __init__(self,src:str):\n",
    "        self.current_dir = os.getcwd()\n",
    "        self.source_dir = src\n",
    "        self.abs_src_path = os.path.join(self.current_dir,src)\n",
    "\n",
    "    def search_with_extensions(self,extensions:list = []):\n",
    "        \"\"\"Function to Search files with given extension\n",
    "        -------------------\n",
    "        Parameter:\n",
    "            extensions: List of extensions to Search (optional)\n",
    "        \"\"\"\n",
    "        # Lists all Files and Folders in the source path\n",
    "        dir_list = os.listdir(self.abs_src_path)\n",
    "\n",
    "        # Finding Files with given extensions\n",
    "        file_found = []\n",
    "        # Checks for each extension\n",
    "        for ext in extensions: \n",
    "            # Check every file in directory if it ends with extesnion\n",
    "            for file in dir_list:\n",
    "                if file.endswith(ext):\n",
    "                    file_found.append(file) # adds file name to list\n",
    "                else:\n",
    "                    pass\n",
    "        return file_found\n",
    "    \n",
    "    def copy_to(self, files:list, dest:str):\n",
    "        \"\"\"Function to Copy files to new location\n",
    "        -------------------\n",
    "        Parameter:\n",
    "            files: List of files to copy (relative path)\n",
    "            dest: Destination Folder (relative path)\n",
    "        Returns: True if successfull\n",
    "        \"\"\"\n",
    "        # If destination is empty, them copy it in temp folder\n",
    "        if not dest:\n",
    "             dest = 'temp'\n",
    "        #Creates folder if doesn't Exist\n",
    "        os.makedirs(dest,exist_ok = True)\n",
    "        #copying Files from src to dest\n",
    "        for filename in files:\n",
    "            file_src = os.path.join(self.abs_src_path,filename)\n",
    "            file_dst = os.path.join(self.current_dir,dest,filename)\n",
    "            shutil.copy2(file_src, file_dst) \n",
    "        return True"
   ]
  },
  {
   "cell_type": "code",
   "execution_count": 89,
   "id": "7e140589-42b8-4e60-b45d-762832f333b6",
   "metadata": {},
   "outputs": [
    {
     "name": "stdin",
     "output_type": "stream",
     "text": [
      "Enter Source Directory: folder1\n",
      "Enter Destination Directory: pdf_jpgs\n"
     ]
    }
   ],
   "source": [
    "extensions = ['.pdf','.jpg']\n",
    "source = input(r\"Enter Source Directory:\")\n",
    "destination = input(r\"Enter Destination Directory:\")"
   ]
  },
  {
   "cell_type": "code",
   "execution_count": 90,
   "id": "eb81e02d-c87d-4747-b4c0-607c66c07c31",
   "metadata": {},
   "outputs": [],
   "source": [
    "mycopier1 = copier(source)"
   ]
  },
  {
   "cell_type": "code",
   "execution_count": 91,
   "id": "e6e9204f-deb8-4d03-845d-adc1a2a8973c",
   "metadata": {},
   "outputs": [
    {
     "name": "stdout",
     "output_type": "stream",
     "text": [
      "List of files with ['.pdf', '.jpg'] extension:\n",
      " ['1654671578617y25fFL3nyo5WoW4u.pdf', 'ACFrOgAbamCUh06iIiBZScUqQAffTSISm4ZeWR1QPVA6NNIcs4pX6TlA6GuzZ7kzzKfiZlaf7PBICUCwcd8rp3nmoWmYv_iZ-m7GiuaCezTwTBDQA0mLus0d35A6NRfnG3ZuwxDG_FicLiVVOE-1.pdf', 'ACFrOgBB7VScJNkpUxig2Xj_uSLsPdfxmU8KvNjG3dugniIJA5e6kuutpbMfzpTfQl5twBavsVt2C7itP2tWbLhV5PnXp4kCKsNEem7Dlbxhw1WORutzR2iph18v5FJwmEDYfVJap3jnLU4oeWIm.pdf', 'BCodes2018.pdf', 'Consultancy_Details_Mechanical.pdf', 'Daily Word list  6th June  2022.pdf', 'Fluid_and_Thermal_Engg_Lab_.pdf', 'Government schemes.pdf', 'POU END SEM PAPER.pdf', 'Resume Update 2020.pdf', 'User Manual W11_Acer_1.0_A_A.pdf', 'JtpX95Rt_400x400.jpg', 'myImage.jpg', 'sketchMaker.jpg']\n"
     ]
    }
   ],
   "source": [
    "x = mycopier1.search_with_extensions(extensions=extensions)\n",
    "print(f\"List of files with {extensions} extension:\\n {x}\")"
   ]
  },
  {
   "cell_type": "code",
   "execution_count": 92,
   "id": "0ab465b4-da9f-4401-a432-4528e877f38d",
   "metadata": {},
   "outputs": [
    {
     "name": "stdout",
     "output_type": "stream",
     "text": [
      "Is copied successfully: True\n"
     ]
    }
   ],
   "source": [
    "t = mycopier1.copy_to(x,destination)\n",
    "print(f\"Is copied successfully: {t}\")"
   ]
  },
  {
   "cell_type": "code",
   "execution_count": 93,
   "id": "cdc19a3a-36a9-4d4a-8a33-705e23f16de9",
   "metadata": {},
   "outputs": [
    {
     "name": "stdout",
     "output_type": "stream",
     "text": [
      " Volume in drive C is Acer\n",
      " Volume Serial Number is E29C-22B7\n",
      "\n",
      " Directory of C:\\Users\\abhim\\Py Notebook\\ineuron\\Assignments\\ineuron-fsds\\Python Basics\\pdf_jpgs\n",
      "\n",
      "31-08-2022  03:01 AM    <DIR>          .\n",
      "31-08-2022  02:59 AM    <DIR>          ..\n",
      "08-06-2022  12:29 PM            35,104 1654671578617y25fFL3nyo5WoW4u.pdf\n",
      "04-03-2022  01:58 AM           912,978 ACFrOgAbamCUh06iIiBZScUqQAffTSISm4ZeWR1QPVA6NNIcs4pX6TlA6GuzZ7kzzKfiZlaf7PBICUCwcd8rp3nmoWmYv_iZ-m7GiuaCezTwTBDQA0mLus0d35A6NRfnG3ZuwxDG_FicLiVVOE-1.pdf\n",
      "04-03-2022  02:09 AM           459,966 ACFrOgBB7VScJNkpUxig2Xj_uSLsPdfxmU8KvNjG3dugniIJA5e6kuutpbMfzpTfQl5twBavsVt2C7itP2tWbLhV5PnXp4kCKsNEem7Dlbxhw1WORutzR2iph18v5FJwmEDYfVJap3jnLU4oeWIm.pdf\n",
      "30-07-2022  10:18 PM           263,894 BCodes2018.pdf\n",
      "15-07-2022  12:43 AM         3,089,647 Consultancy_Details_Mechanical.pdf\n",
      "09-06-2022  07:07 PM           178,832 Daily Word list  6th June  2022.pdf\n",
      "15-07-2022  12:44 AM            20,698 Fluid_and_Thermal_Engg_Lab_.pdf\n",
      "09-06-2022  07:06 PM         2,732,319 Government schemes.pdf\n",
      "05-06-2022  12:25 AM            13,370 JtpX95Rt_400x400.jpg\n",
      "15-05-2022  04:57 AM           227,019 myImage.jpg\n",
      "06-07-2022  02:42 PM         1,288,252 POU END SEM PAPER.pdf\n",
      "04-03-2022  01:52 AM           469,547 Resume Update 2020.pdf\n",
      "15-05-2022  05:05 AM         1,754,784 sketchMaker.jpg\n",
      "08-07-2022  12:20 AM         2,924,388 User Manual W11_Acer_1.0_A_A.pdf\n",
      "              14 File(s)     14,370,798 bytes\n",
      "               2 Dir(s)  42,714,787,840 bytes free\n"
     ]
    }
   ],
   "source": [
    "!cd pdf_jpgs && dir "
   ]
  }
 ],
 "metadata": {
  "kernelspec": {
   "display_name": "Python 3 (ipykernel)",
   "language": "python",
   "name": "python3"
  },
  "language_info": {
   "codemirror_mode": {
    "name": "ipython",
    "version": 3
   },
   "file_extension": ".py",
   "mimetype": "text/x-python",
   "name": "python",
   "nbconvert_exporter": "python",
   "pygments_lexer": "ipython3",
   "version": "3.10.5"
  }
 },
 "nbformat": 4,
 "nbformat_minor": 5
}
