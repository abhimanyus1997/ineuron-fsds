{
 "cells": [
  {
   "cell_type": "markdown",
   "id": "f4098d17",
   "metadata": {},
   "source": [
    "# Assignment 1 (Python Basics)"
   ]
  },
  {
   "cell_type": "markdown",
   "id": "06fdcf92",
   "metadata": {},
   "source": [
    "## 1. In the below elements which of them are values or an expression? eg:- values can be integer or string and expressions will be mathematical operators. \n",
    "***\n",
    "<tt> *\n",
    "&#39;hello&#39;\n",
    "-87.8\n",
    "-\n",
    "/\n",
    "+\n",
    "6 </tt> \n",
    "***\n",
    "\n",
    "**Ans**:  In above question, following are \n",
    "\n",
    "Operators: `*,-,/,+`  \n",
    "Expressions: `'hello', 87.8, 6`\n"
   ]
  },
  {
   "cell_type": "markdown",
   "id": "43f51b84",
   "metadata": {},
   "source": [
    "## 2. What is the difference between string and variable?\n",
    "**Ans:** A variable stores the information and string is a data type in python. Variables can be of various data types like int, float, string ,char etc.\n"
   ]
  },
  {
   "cell_type": "markdown",
   "id": "3554b170",
   "metadata": {},
   "source": [
    "## 3. Describe three different data types.\n",
    "**Ans:** In python various builtin data types. But the three major data types are:  \n",
    "1. Numerical Data Types:   \n",
    "&emsp It includes numbers and subdivided into 3 parts\n",
    "    * **`int`**: ex - `x = 2`\n",
    "    * **`float`**: ex - `y = 2.0`\n",
    "    * **`complex`**: ex - `x = 2+4.2j`  \n",
    "2. Text Data Types: \n",
    "    * **`str`**:\n",
    "        * Strings in python are surrounded by either single quotation marks, or double quotation marks.\n",
    "        * ex - `name = \"Abhimanyu\"`\n",
    "3. Sequence Types:\n",
    "    * **`list`**: \n",
    "        * Lists are used to store multiple items in a single variable.\n",
    "        * They are Ordered chnagable and allow Duplication\n",
    "        * ex - `record = ['Ram',1024,'A+']`\n",
    "    * **`tuple`**:\n",
    "        * Tuples are used to store multiple items in a single variable.\n",
    "        * They are ordered and unchangeable (Immutable).\n",
    "        * ex - `uid = ('Player1',10)`\n",
    "\n",
    "    \n",
    "    "
   ]
  },
  {
   "cell_type": "markdown",
   "id": "f40a59ed",
   "metadata": {},
   "source": [
    "## 4. What is an expression made up of? What do all expressions do?\n",
    "\n",
    "**Ans:** Expression in python is just like expresssions in mathematics made up of *Variable, Operator (Arithmetic/Logical/Relational), Parenthesis* and *Value* that may include **Functions** also. There can be various types of expressions like:\n",
    "* Constant Expressions: `15 `\n",
    "* Arithmetic Expressions: `2+3`\n",
    "* Relational Expressions: `x>3`\n",
    "* Logical Expressions: `y>3 and z<=4`\n",
    "* Bitwise Expressions: `a >> 2`\n",
    "\n",
    "Expression helps in evaluating using Python Interpreter"
   ]
  },
  {
   "cell_type": "markdown",
   "id": "13ede6ab",
   "metadata": {},
   "source": [
    "## 5. This assignment statements, like spam = 10. What is the difference between an expression and a statement?\n",
    "\n",
    "**Ans**:\n",
    "* **Expression** is a combination of values and functions that are combined and interpreted by the compiler to create a new value  \n",
    "    \n",
    "* While **Statement** is just a standalone unit of execution and doesn’t return anything. So *Variable Declaration and Assignment/Initialisation* is also a Statement\n",
    "\n",
    "\n",
    "``` Python\n",
    "    11*25/45%5             #This is Expression\n",
    "    name=\"Abhimanyu\"       #This is Statement\n",
    "    print(\"Hi\",name)       #this is Expression Statement\n",
    "\n",
    "```"
   ]
  },
  {
   "cell_type": "code",
   "execution_count": 7,
   "id": "c231f14a",
   "metadata": {},
   "outputs": [
    {
     "data": {
      "text/plain": [
       "1.1111111111111107"
      ]
     },
     "execution_count": 7,
     "metadata": {},
     "output_type": "execute_result"
    }
   ],
   "source": [
    "11*25/45%5             #This is Expression"
   ]
  },
  {
   "cell_type": "code",
   "execution_count": 8,
   "id": "7d488258",
   "metadata": {},
   "outputs": [
    {
     "name": "stdout",
     "output_type": "stream",
     "text": [
      "Hi Abhimanyu\n"
     ]
    }
   ],
   "source": [
    "name=\"Abhimanyu\"       #This is Statement\n",
    "print(\"Hi\",name)       #this is Expression Statement"
   ]
  },
  {
   "cell_type": "markdown",
   "id": "a776aa1a",
   "metadata": {},
   "source": [
    "## 6. After running the following code, what does the variable bacon contain?\n",
    "```\n",
    "bacon = 22\n",
    "bacon + 1\n",
    "```\n",
    "\n",
    "__Ans:__ `bacon` will contain value 22 only as no assigment operator is used like `bacon = bacon + 1` or `bacon += 1`"
   ]
  },
  {
   "cell_type": "code",
   "execution_count": 4,
   "id": "807b37bd",
   "metadata": {},
   "outputs": [
    {
     "data": {
      "text/plain": [
       "23"
      ]
     },
     "execution_count": 4,
     "metadata": {},
     "output_type": "execute_result"
    }
   ],
   "source": [
    "bacon = 22\n",
    "bacon+1 #Prints 23 but actual value is different"
   ]
  },
  {
   "cell_type": "code",
   "execution_count": 5,
   "id": "f19329ab",
   "metadata": {},
   "outputs": [
    {
     "data": {
      "text/plain": [
       "22"
      ]
     },
     "execution_count": 5,
     "metadata": {},
     "output_type": "execute_result"
    }
   ],
   "source": [
    "bacon"
   ]
  },
  {
   "cell_type": "markdown",
   "id": "b1d6b73e",
   "metadata": {},
   "source": [
    "## 7. What should the values of the following two terms be?\n",
    "&#39;spam&#39; + &#39;spamspam&#39;\n",
    "&#39;spam&#39; * 3\n",
    "\n",
    "**Ans:** Both expression will give `spamspamspam` as output because 1st term is performing *String Concatentation* while second one is *String Multiplication*"
   ]
  },
  {
   "cell_type": "markdown",
   "id": "14899c83",
   "metadata": {},
   "source": [
    "## 8. Why is eggs a valid variable name while 100 is invalid?\n",
    "\n",
    "**Ans:** Due to the following Rules for naming Python variables:\n",
    "* A variable name must start with a letter or the underscore character\n",
    "* A variable name cannot start with a number\n",
    "* A variable name can only contain alpha-numeric characters and underscores (A-z, 0-9, and _ )\n",
    "* Variable names are case-sensitive (age, Age and AGE are three different variables)\n",
    "\n",
    "It violates the second rule and gives the following error"
   ]
  },
  {
   "cell_type": "code",
   "execution_count": 1,
   "id": "dbbb3ecf",
   "metadata": {
    "scrolled": false
   },
   "outputs": [
    {
     "ename": "SyntaxError",
     "evalue": "cannot assign to literal here. Maybe you meant '==' instead of '='? (280678142.py, line 1)",
     "output_type": "error",
     "traceback": [
      "\u001b[1;36m  Input \u001b[1;32mIn [1]\u001b[1;36m\u001b[0m\n\u001b[1;33m    100 = \"Hi\"\u001b[0m\n\u001b[1;37m    ^\u001b[0m\n\u001b[1;31mSyntaxError\u001b[0m\u001b[1;31m:\u001b[0m cannot assign to literal here. Maybe you meant '==' instead of '='?\n"
     ]
    }
   ],
   "source": [
    "100 = \"Hi\""
   ]
  },
  {
   "cell_type": "code",
   "execution_count": 3,
   "id": "7e0371f0",
   "metadata": {},
   "outputs": [],
   "source": [
    "egg = \"Hi\" # No Error"
   ]
  },
  {
   "cell_type": "markdown",
   "id": "4d082007",
   "metadata": {},
   "source": [
    "## 9. What three functions can be used to get the integer, floating-point number, or string version of a value?\n",
    "\n",
    "**Ans**: `int(),float(),and str()` functions can be used to get typecasted values of numbers"
   ]
  },
  {
   "cell_type": "code",
   "execution_count": 9,
   "id": "82485053",
   "metadata": {},
   "outputs": [
    {
     "name": "stdout",
     "output_type": "stream",
     "text": [
      "Float:  2.0\n",
      "Int:  2\n",
      "String:  2\n",
      "Complex:  (2+0j)\n"
     ]
    }
   ],
   "source": [
    "x = 2\n",
    "print(\"Float: \",float(x))\n",
    "print(\"Int: \",int(x))\n",
    "print(\"String: \",str(x))\n",
    "print(\"Complex: \",complex(x))"
   ]
  },
  {
   "cell_type": "markdown",
   "id": "add1c370",
   "metadata": {},
   "source": [
    "## 10. Why does this expression cause an error? How can you fix it?\n",
    "&#39;I have eaten &#39; + 99 + &#39; burritos.&#39;\n",
    "\n",
    "__Ans:__ It will raise a TypeError in python as 99 is not a string type. We need to type cast it into string using **str()** function. "
   ]
  },
  {
   "cell_type": "code",
   "execution_count": 10,
   "id": "834ceecd",
   "metadata": {},
   "outputs": [
    {
     "ename": "TypeError",
     "evalue": "can only concatenate str (not \"int\") to str",
     "output_type": "error",
     "traceback": [
      "\u001b[1;31m---------------------------------------------------------------------------\u001b[0m",
      "\u001b[1;31mTypeError\u001b[0m                                 Traceback (most recent call last)",
      "Input \u001b[1;32mIn [10]\u001b[0m, in \u001b[0;36m<module>\u001b[1;34m\u001b[0m\n\u001b[1;32m----> 1\u001b[0m \u001b[38;5;124;43m'\u001b[39;49m\u001b[38;5;124;43mI have eaten \u001b[39;49m\u001b[38;5;124;43m'\u001b[39;49m\u001b[43m \u001b[49m\u001b[38;5;241;43m+\u001b[39;49m\u001b[43m \u001b[49m\u001b[38;5;241;43m99\u001b[39;49m \u001b[38;5;241m+\u001b[39m \u001b[38;5;124m'\u001b[39m\u001b[38;5;124mburritos.\u001b[39m\u001b[38;5;124m'\u001b[39m\n",
      "\u001b[1;31mTypeError\u001b[0m: can only concatenate str (not \"int\") to str"
     ]
    }
   ],
   "source": [
    "'I have eaten ' + 99 + 'burritos.' #This is the error"
   ]
  },
  {
   "cell_type": "code",
   "execution_count": 12,
   "id": "4cb0ebf1",
   "metadata": {},
   "outputs": [
    {
     "data": {
      "text/plain": [
       "'I have eaten 99burritos.'"
      ]
     },
     "execution_count": 12,
     "metadata": {},
     "output_type": "execute_result"
    }
   ],
   "source": [
    "'I have eaten ' + str(99) + 'burritos.' #This is Fixed now"
   ]
  }
 ],
 "metadata": {
  "kernelspec": {
   "display_name": "Python 3 (ipykernel)",
   "language": "python",
   "name": "python3"
  },
  "language_info": {
   "codemirror_mode": {
    "name": "ipython",
    "version": 3
   },
   "file_extension": ".py",
   "mimetype": "text/x-python",
   "name": "python",
   "nbconvert_exporter": "python",
   "pygments_lexer": "ipython3",
   "version": "3.10.5"
  }
 },
 "nbformat": 4,
 "nbformat_minor": 5
}
