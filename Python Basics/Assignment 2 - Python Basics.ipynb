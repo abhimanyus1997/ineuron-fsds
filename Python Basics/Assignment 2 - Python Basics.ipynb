{
 "cells": [
  {
   "cell_type": "markdown",
   "id": "72d97799",
   "metadata": {},
   "source": [
    "# Assignment 2 - Basic Python"
   ]
  },
  {
   "cell_type": "markdown",
   "id": "97906e73",
   "metadata": {},
   "source": [
    "## 1.What are the two values of the Boolean data type? How do you write them?\n",
    "Ans - `True` and `False` are two boolean value written as already shown"
   ]
  },
  {
   "cell_type": "markdown",
   "id": "875f0be7",
   "metadata": {},
   "source": [
    "## 2. What are the three different types of Boolean operators?\n",
    "Ans: Three boolean operators are `and or not`. Example to use them is shown"
   ]
  },
  {
   "cell_type": "code",
   "execution_count": 26,
   "id": "41f621a3",
   "metadata": {},
   "outputs": [
    {
     "name": "stdout",
     "output_type": "stream",
     "text": [
      "Using and: False\n",
      "Using or: True\n",
      "\n",
      "Without Using Not: True\n",
      "Using Not: False\n"
     ]
    }
   ],
   "source": [
    "a = 5\n",
    "b = 10\n",
    "print(f\"Using and: {a>=5 and b<=5}\")\n",
    "print(f\"Using or: {a>=5 or b<=5}\")\n",
    "\n",
    "print(f\"\\nWithout Using Not: {(a>=5)}\")\n",
    "print(f\"Using Not: {not(a>=5)}\")"
   ]
  },
  {
   "cell_type": "markdown",
   "id": "e3c36673",
   "metadata": {},
   "source": [
    "## 3. Make a list of each Boolean operator&#39;s truth tables (i.e. every possible combination of Boolean values for the operator and what it evaluate ).?\n",
    "Ans: \n",
    "\n",
    "* **AND** Operator\n",
    "    | x | y | x AND y |\n",
    "    |---|---|---------|\n",
    "    | 0 | 0 |    0    |\n",
    "    | 0 | 1 |    0    |\n",
    "    | 1 | 0 |    0    |\n",
    "    | 1 | 1 |    1    |\n",
    "* **OR** Operator\n",
    "    | x | y | x OR y |\n",
    "    |---|---|---------|\n",
    "    | 0 | 0 |    0    |\n",
    "    | 0 | 1 |    1    |\n",
    "    | 1 | 0 |    1    |\n",
    "    | 1 | 1 |    1    |\n",
    "* **NOT** Operator\n",
    "    | x | NOT x |\n",
    "    |---|-------|\n",
    "    | 0 |  1    |\n",
    "    | 1 |   0   |"
   ]
  },
  {
   "cell_type": "markdown",
   "id": "fc122814",
   "metadata": {},
   "source": [
    "4. What are the values of the following expressions?  \n",
    "***\n",
    "(5 &gt; 4) and (3 == 5)  \n",
    "not (5 &gt; 4)  \n",
    "(5 &gt; 4) or (3 == 5)  \n",
    "not ((5 &gt; 4) or (3 == 5))  \n",
    "(True and True) and (True == False)  \n",
    "(not False) or (not True)  \n",
    "***\n"
   ]
  },
  {
   "cell_type": "code",
   "execution_count": 27,
   "id": "0b23ee59",
   "metadata": {},
   "outputs": [
    {
     "name": "stdout",
     "output_type": "stream",
     "text": [
      "False\n",
      "False\n",
      "True\n",
      "False\n",
      "False\n",
      "True\n"
     ]
    }
   ],
   "source": [
    "print((5>4)and(3==5)) # False\n",
    "print(not(5>4)) # False\n",
    "print((5>4)or(3==5)) # True\n",
    "print(not((5>4)or(3==5))) # False\n",
    "print((True and True)and(True==False)) # False\n",
    "print((not False)or(not True)) # True"
   ]
  },
  {
   "cell_type": "markdown",
   "id": "5ba102d0",
   "metadata": {},
   "source": [
    "## 5. What are the six comparison operators?\n",
    "Ans: Six comparision operators are`== , != , < , > , <= , =>`"
   ]
  },
  {
   "cell_type": "markdown",
   "id": "6a0db4bb",
   "metadata": {},
   "source": [
    "## 6. How do you tell the difference between the equal to and assignment operators?Describe a condition and when you would use one.\n",
    "\n",
    "**Ans:**   \n",
    "* == is the equal to operator used to compare two variables and returns a boolean value   \n",
    "* while = is that assignment operator that stores a value in a variable."
   ]
  },
  {
   "cell_type": "code",
   "execution_count": 28,
   "id": "26e1d6a6",
   "metadata": {},
   "outputs": [
    {
     "data": {
      "text/plain": [
       "True"
      ]
     },
     "execution_count": 28,
     "metadata": {},
     "output_type": "execute_result"
    }
   ],
   "source": [
    "# Example\n",
    "user1 = \"Abhi\" #Assignment Operator returns nothing but assign value to variable\n",
    "\n",
    "user1 == \"Abhi\" #Checks if user1 values equal to \"Abhi\" and Return Boolean"
   ]
  },
  {
   "cell_type": "markdown",
   "id": "576b24c6",
   "metadata": {},
   "source": [
    "## 7. Identify the three blocks in this code:\n",
    "``` Python\n",
    "spam = 0\n",
    "if spam == 10:\n",
    "    print('eggs')\n",
    "if spam > 5:\n",
    "    print('bacon')\n",
    "else:\n",
    "    print('ham')\n",
    "    print('spam')\n",
    "    print('spam')\n",
    "```\n",
    "\n",
    "__Ans:__ The three blocks of codes are (identified from indenation):\n",
    "1. Block 1\n",
    "```Python\n",
    "if spam == 10:\n",
    "    print('eggs')\n",
    "    ```\n",
    "    \n",
    "1. Block 2\n",
    "```Python\n",
    "if spam > 5:\n",
    "    print('bacon')\n",
    "    ```\n",
    "    \n",
    "1. Block 3\n",
    "```Python\n",
    "if spam &gt; 5:\n",
    "    print('bacon')\n",
    "    ```"
   ]
  },
  {
   "cell_type": "code",
   "execution_count": 29,
   "id": "7276cdcc",
   "metadata": {},
   "outputs": [
    {
     "name": "stdout",
     "output_type": "stream",
     "text": [
      "ham\n",
      "spam\n",
      "spam\n"
     ]
    }
   ],
   "source": [
    "# OUTPUT IS\n",
    "spam = 0\n",
    "if spam == 10:\n",
    "    print('eggs')\n",
    "if spam > 5:\n",
    "    print('bacon')\n",
    "else:\n",
    "    print('ham')\n",
    "    print('spam')\n",
    "    print('spam')"
   ]
  },
  {
   "cell_type": "markdown",
   "id": "09808204",
   "metadata": {},
   "source": [
    "## 8. Write code that prints Hello if 1 is stored in spam, prints Howdy if 2 is stored in spam, and prints Greetings! if anything else is stored in spam.\n",
    "\n",
    "**Ans:** \n",
    "```Python\n",
    "if spam == 1:\n",
    "    print(\"Hello\")\n",
    "elif spam ==2:\n",
    "    print(\"Howdy\")\n",
    "else:\n",
    "    print(\"Greetings!\")\n",
    "   ```\n"
   ]
  },
  {
   "cell_type": "markdown",
   "id": "2ff01703",
   "metadata": {},
   "source": [
    "## 9.If your programme is stuck in an endless loop, what keys you’ll press?\n",
    "**Ans** Press <kbd>Ctrl+C</kbd>"
   ]
  },
  {
   "cell_type": "markdown",
   "id": "4fd3fd76",
   "metadata": {},
   "source": [
    "## 10. How can you tell the difference between break and continue?\n",
    "**Ans**:  \n",
    "The `break` statement is used to terminate the loop or statement in which it is present.  \n",
    "While `continue` statement avoids loop breaking/termination and forces it to execute the next iteration of the loop."
   ]
  },
  {
   "cell_type": "markdown",
   "id": "54a93625",
   "metadata": {},
   "source": [
    "## 11. In a for loop, what is the difference between range(10), range(0, 10), and range(0, 10, 1)?\n",
    "**Ans:** The differences includes:\n",
    "* `range(10)` call range from 0 to 9 (excluding 10)\n",
    "* `range (0,10)` tells the loop to start (explicitely) range from 0 till 9 (exluding 10)\n",
    "* `range(0,10,1)` tells the loop to start (explicitely) range from 0 till 9 (exluding 10) with a jump/gap of 1. Just like an Arithmetic Progression"
   ]
  },
  {
   "cell_type": "markdown",
   "id": "f0cb0c7d",
   "metadata": {},
   "source": [
    "## 12. Write a short program that prints the numbers 1 to 10 using a for loop. Then write an equivalent program that prints the numbers 1 to 10 using a while loop.\n",
    "**Ans**"
   ]
  },
  {
   "cell_type": "code",
   "execution_count": 30,
   "id": "aa157b70",
   "metadata": {},
   "outputs": [
    {
     "name": "stdout",
     "output_type": "stream",
     "text": [
      "Program using For loop:\n",
      "1,2,3,4,5,6,7,8,9,10,\n",
      " --------------------------------------------------\n",
      "Program using While loop:\n",
      "1,2,3,4,5,6,7,8,9,10,"
     ]
    }
   ],
   "source": [
    "print(\"Program using For loop:\")\n",
    "for i in range(1,11):\n",
    "    print(i, end=\",\")\n",
    "    \n",
    "print(\"\\n\",\"-\"*50)\n",
    "\n",
    "print('Program using While loop:')\n",
    "i=1\n",
    "while i<=10:\n",
    "    print(i, end=\",\")\n",
    "    i+=1"
   ]
  },
  {
   "cell_type": "markdown",
   "id": "2c1e9e23",
   "metadata": {},
   "source": [
    "## 13. If you had a function named bacon() inside a module named spam, how would you call it after importing spam?\n",
    "**Ans:** Using *Module_Name.Function_Name* ,i.e, `spam.bacon()`"
   ]
  }
 ],
 "metadata": {
  "kernelspec": {
   "display_name": "Python 3 (ipykernel)",
   "language": "python",
   "name": "python3"
  },
  "language_info": {
   "codemirror_mode": {
    "name": "ipython",
    "version": 3
   },
   "file_extension": ".py",
   "mimetype": "text/x-python",
   "name": "python",
   "nbconvert_exporter": "python",
   "pygments_lexer": "ipython3",
   "version": "3.10.5"
  }
 },
 "nbformat": 4,
 "nbformat_minor": 5
}
