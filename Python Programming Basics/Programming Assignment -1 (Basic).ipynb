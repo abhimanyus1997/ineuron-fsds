{
 "cells": [
  {
   "cell_type": "markdown",
   "id": "0930811c-503b-4219-a941-7954ff66e975",
   "metadata": {},
   "source": [
    "# Programming Assignment -1 (Basic)"
   ]
  },
  {
   "cell_type": "markdown",
   "id": "20c43a8a-cca7-4058-91ca-8e43a3d66148",
   "metadata": {},
   "source": [
    "1. Write a Python program to print &quot;Hello Python&quot;?"
   ]
  },
  {
   "cell_type": "code",
   "execution_count": 3,
   "id": "085b38fe-1b5a-400f-be86-38f29c7e5c09",
   "metadata": {},
   "outputs": [
    {
     "name": "stdout",
     "output_type": "stream",
     "text": [
      "Hello Python\n"
     ]
    }
   ],
   "source": [
    "print(\"Hello Python\")"
   ]
  },
  {
   "cell_type": "markdown",
   "id": "40077046-3046-46bf-9967-561ea8e8dbd6",
   "metadata": {},
   "source": [
    "2. Write a Python program to do arithmetical operations addition and division.?"
   ]
  },
  {
   "cell_type": "code",
   "execution_count": 5,
   "id": "a8289a2d-4e88-4935-bf8d-6f4bc9dc5a84",
   "metadata": {},
   "outputs": [
    {
     "name": "stdout",
     "output_type": "stream",
     "text": [
      "3\n"
     ]
    }
   ],
   "source": [
    "x = 1 + 2\n",
    "print(x)"
   ]
  },
  {
   "cell_type": "code",
   "execution_count": 6,
   "id": "1ca18471-129f-4ed0-946a-5a8b87687fa4",
   "metadata": {},
   "outputs": [
    {
     "name": "stdout",
     "output_type": "stream",
     "text": [
      "2.0\n"
     ]
    }
   ],
   "source": [
    "y = 4/2\n",
    "print(y)"
   ]
  },
  {
   "cell_type": "markdown",
   "id": "f8678faf-2c33-486c-ac74-4fa9cf48e38c",
   "metadata": {},
   "source": [
    "3. Write a Python program to find the area of a triangle?"
   ]
  },
  {
   "cell_type": "code",
   "execution_count": 10,
   "id": "6612e0b4-5d06-4d8e-bd1f-70971fef3d02",
   "metadata": {},
   "outputs": [
    {
     "name": "stdout",
     "output_type": "stream",
     "text": [
      "Area of Triangle: 628.6644574015617 units²\n"
     ]
    }
   ],
   "source": [
    "#a,b,c are sides\n",
    "a = 30\n",
    "b = 42\n",
    "c = 50\n",
    "\n",
    "s = (a+b+c)/2\n",
    "\n",
    "area = (s*(s-a)*(s-b)*(s-c))**(0.5)\n",
    "\n",
    "print(\"Area of Triangle:\",area ,\"units²\")"
   ]
  },
  {
   "cell_type": "markdown",
   "id": "86953a2d-b122-4221-80af-98994dd31d23",
   "metadata": {},
   "source": [
    "4. Write a Python program to swap two variables?"
   ]
  },
  {
   "cell_type": "code",
   "execution_count": 12,
   "id": "e22807a2-a7aa-4c75-99b2-5c9aa28868fb",
   "metadata": {},
   "outputs": [
    {
     "name": "stdout",
     "output_type": "stream",
     "text": [
      "before swap: \t 🟨 🔴\n",
      "after swap: \t 🔴 🟨\n"
     ]
    }
   ],
   "source": [
    "a = \"🟨\"\n",
    "b = \"🔴\"\n",
    "print(\"before swap: \\t\",a,b)\n",
    "\n",
    "temp = a\n",
    "a = b\n",
    "b = temp\n",
    "del temp\n",
    "\n",
    "print(\"after swap: \\t\",a,b)"
   ]
  },
  {
   "cell_type": "markdown",
   "id": "10d874a5-4adf-4824-9393-55439e055df4",
   "metadata": {},
   "source": [
    "5. Write a Python program to generate a random number?"
   ]
  },
  {
   "cell_type": "code",
   "execution_count": 15,
   "id": "599ca9dd-3958-4735-ae68-9eb62ba0ea09",
   "metadata": {},
   "outputs": [
    {
     "name": "stdout",
     "output_type": "stream",
     "text": [
      "Random no: 90\n"
     ]
    }
   ],
   "source": [
    "import random\n",
    "\n",
    "# generates random no between 1 and 100\n",
    "print(\"Random no:\",random.randint(1,100))"
   ]
  }
 ],
 "metadata": {
  "kernelspec": {
   "display_name": "Python 3 (ipykernel)",
   "language": "python",
   "name": "python3"
  },
  "language_info": {
   "codemirror_mode": {
    "name": "ipython",
    "version": 3
   },
   "file_extension": ".py",
   "mimetype": "text/x-python",
   "name": "python",
   "nbconvert_exporter": "python",
   "pygments_lexer": "ipython3",
   "version": "3.10.6"
  }
 },
 "nbformat": 4,
 "nbformat_minor": 5
}
