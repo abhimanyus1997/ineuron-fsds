{
 "cells": [
  {
   "cell_type": "markdown",
   "id": "07976bab-32db-4307-a3ed-d4f96cad7d30",
   "metadata": {},
   "source": [
    "# Assignment 11 - Python Basics"
   ]
  },
  {
   "cell_type": "markdown",
   "id": "bdecb105-35e6-467c-a1e1-438154e51d4b",
   "metadata": {},
   "source": [
    "## 1. Create an assert statement that throws an AssertionError if the variable spam is a negative integer."
   ]
  },
  {
   "cell_type": "code",
   "execution_count": 1,
   "id": "1ead73cc-692c-44e8-96ef-e9174a61ed40",
   "metadata": {},
   "outputs": [
    {
     "ename": "AssertionError",
     "evalue": "Spam is a negative number",
     "output_type": "error",
     "traceback": [
      "\u001b[1;31m---------------------------------------------------------------------------\u001b[0m",
      "\u001b[1;31mAssertionError\u001b[0m                            Traceback (most recent call last)",
      "Input \u001b[1;32mIn [1]\u001b[0m, in \u001b[0;36m<module>\u001b[1;34m\u001b[0m\n\u001b[0;32m      1\u001b[0m spam \u001b[38;5;241m=\u001b[39m \u001b[38;5;241m-\u001b[39m\u001b[38;5;241m1\u001b[39m\n\u001b[1;32m----> 2\u001b[0m \u001b[38;5;28;01massert\u001b[39;00m spam \u001b[38;5;241m>\u001b[39m\u001b[38;5;241m=\u001b[39m\u001b[38;5;241m0\u001b[39m, \u001b[38;5;124m'\u001b[39m\u001b[38;5;124mSpam is a negative number\u001b[39m\u001b[38;5;124m'\u001b[39m\n",
      "\u001b[1;31mAssertionError\u001b[0m: Spam is a negative number"
     ]
    }
   ],
   "source": [
    "spam = -1\n",
    "assert spam >=0, 'Spam is a negative number'"
   ]
  },
  {
   "cell_type": "markdown",
   "id": "13829579-65b7-4d70-b6dc-742603d5cfc8",
   "metadata": {},
   "source": [
    "## 2. Write an assert statement that triggers an AssertionError if the variables eggs and bacon contain strings that are the same as each other, even if their cases are different (that is, &#39;hello&#39; and &#39;hello&#39; are considered the same, and &#39;goodbye&#39; and &#39;GOODbye&#39; are also considered the same)."
   ]
  },
  {
   "cell_type": "code",
   "execution_count": 2,
   "id": "00220d6b-891e-4b23-9193-393f52783e9b",
   "metadata": {},
   "outputs": [
    {
     "ename": "AssertionError",
     "evalue": "Both egg and becon are same: hen",
     "output_type": "error",
     "traceback": [
      "\u001b[1;31m---------------------------------------------------------------------------\u001b[0m",
      "\u001b[1;31mAssertionError\u001b[0m                            Traceback (most recent call last)",
      "Input \u001b[1;32mIn [2]\u001b[0m, in \u001b[0;36m<module>\u001b[1;34m\u001b[0m\n\u001b[0;32m      1\u001b[0m egg \u001b[38;5;241m=\u001b[39m \u001b[38;5;124m\"\u001b[39m\u001b[38;5;124mHen\u001b[39m\u001b[38;5;124m\"\u001b[39m\n\u001b[0;32m      2\u001b[0m bacon \u001b[38;5;241m=\u001b[39m \u001b[38;5;124m\"\u001b[39m\u001b[38;5;124mhEn\u001b[39m\u001b[38;5;124m\"\u001b[39m\n\u001b[1;32m----> 3\u001b[0m \u001b[38;5;28;01massert\u001b[39;00m \u001b[38;5;129;01mnot\u001b[39;00m(egg\u001b[38;5;241m.\u001b[39mlower() \u001b[38;5;241m==\u001b[39m bacon\u001b[38;5;241m.\u001b[39mlower()), \u001b[38;5;124mf\u001b[39m\u001b[38;5;124m\"\u001b[39m\u001b[38;5;124mBoth egg and becon are same: \u001b[39m\u001b[38;5;132;01m{\u001b[39;00megg\u001b[38;5;241m.\u001b[39mlower()\u001b[38;5;132;01m}\u001b[39;00m\u001b[38;5;124m\"\u001b[39m\n",
      "\u001b[1;31mAssertionError\u001b[0m: Both egg and becon are same: hen"
     ]
    }
   ],
   "source": [
    "egg = \"Hen\"\n",
    "bacon = \"hEn\"\n",
    "assert not(egg.lower() == bacon.lower()), f\"Both egg and becon are same: {egg.lower()}\""
   ]
  },
  {
   "cell_type": "markdown",
   "id": "3772b05f-bd46-4aa7-952e-f546a424e2e3",
   "metadata": {},
   "source": [
    "## 3. Create an assert statement that throws an AssertionError every time."
   ]
  },
  {
   "cell_type": "code",
   "execution_count": 3,
   "id": "5283fefd-51fc-48e2-9cc8-b24ec0812537",
   "metadata": {},
   "outputs": [
    {
     "ename": "AssertionError",
     "evalue": "Always Error",
     "output_type": "error",
     "traceback": [
      "\u001b[1;31m---------------------------------------------------------------------------\u001b[0m",
      "\u001b[1;31mAssertionError\u001b[0m                            Traceback (most recent call last)",
      "Input \u001b[1;32mIn [3]\u001b[0m, in \u001b[0;36m<module>\u001b[1;34m\u001b[0m\n\u001b[1;32m----> 1\u001b[0m \u001b[38;5;28;01massert\u001b[39;00m \u001b[38;5;28;01mFalse\u001b[39;00m, \u001b[38;5;124m\"\u001b[39m\u001b[38;5;124mAlways Error\u001b[39m\u001b[38;5;124m\"\u001b[39m\n",
      "\u001b[1;31mAssertionError\u001b[0m: Always Error"
     ]
    }
   ],
   "source": [
    "assert False, \"Always Error\""
   ]
  },
  {
   "cell_type": "markdown",
   "id": "725a0f4d-5f3c-4e6a-ae45-15acbd4b5e41",
   "metadata": {},
   "source": [
    "## 4. What are the two lines that must be present in your software in order to call logging.debug()?"
   ]
  },
  {
   "cell_type": "code",
   "execution_count": 1,
   "id": "7c3c7d33-551e-47d3-a9cd-abeb3ce4b4b6",
   "metadata": {},
   "outputs": [],
   "source": [
    "import logging\n",
    "logging.basicConfig(filename=\"software.log\",\n",
    "                    level=logging.DEBUG,\n",
    "                    format=' %(asctime)s @ %(name)s - %(levelname)s - %(message)s')"
   ]
  },
  {
   "cell_type": "markdown",
   "id": "427877d7-3701-4ab8-88eb-40270448ad46",
   "metadata": {},
   "source": [
    "## 5. What are the two lines that your program must have in order to have logging.debug() send a logging message to a file named programLog.txt?"
   ]
  },
  {
   "cell_type": "code",
   "execution_count": 2,
   "id": "ba25ea67-658b-4e4e-aa7b-84bf9152ceee",
   "metadata": {},
   "outputs": [],
   "source": [
    "logger1 = logging.getLogger(\"programLog\")\n",
    "logger1.debug(\"Logger Started Successfully\")\n",
    "logger1.info(\"Logging info Now\")\n",
    "logger1.warning(\"Logging a Warning\")"
   ]
  },
  {
   "cell_type": "code",
   "execution_count": 3,
   "id": "78d7af0a-8736-4127-850a-da84e5c815df",
   "metadata": {},
   "outputs": [
    {
     "name": "stdout",
     "output_type": "stream",
     "text": [
      " 2022-08-31 03:35:56,421 @ programLog - DEBUG - Logger Started Successfully\n",
      "\n",
      " 2022-08-31 03:35:56,421 @ programLog - INFO - Logging info Now\n",
      "\n",
      " 2022-08-31 03:35:56,421 @ programLog - WARNING - Logging a Warning\n",
      "\n"
     ]
    }
   ],
   "source": [
    "# Reading Logs\n",
    "with open(\"software.log\",\"r\") as file:\n",
    "    for record in file.readlines():\n",
    "        print(record)"
   ]
  },
  {
   "cell_type": "markdown",
   "id": "b3fc875d-707f-470a-8301-fde99ca7b748",
   "metadata": {},
   "source": [
    "## 6. What are the five levels of logging?"
   ]
  },
  {
   "cell_type": "markdown",
   "id": "562e7003-36c2-4eba-9ae8-3731d9f960a9",
   "metadata": {},
   "source": [
    "* `Debug(10)`: These are used to give Detailed information, typically of interest only when diagnosing problems.\n",
    "* `Info(20)`: These are used to confirm that things are working as expected\n",
    "* `Warning(30)`: These are used an indication that something unexpected happened, or is indicative of some problem in the near future\n",
    "* `Error(40)`: This tells that due to a more serious problem, the software has not been able to perform some function\n",
    "* `Critical(50)`: This tells serious error, indicating that the program itself may be unable to continue running"
   ]
  },
  {
   "cell_type": "markdown",
   "id": "186706ca-6479-44d9-b184-fbe36b554360",
   "metadata": {},
   "source": [
    "## 7. What line of code would you add to your software to disable all logging messages?"
   ]
  },
  {
   "cell_type": "code",
   "execution_count": 4,
   "id": "5bb650cb-7311-47a9-84a1-381c03482bd7",
   "metadata": {},
   "outputs": [],
   "source": [
    "logging.disable = True"
   ]
  },
  {
   "cell_type": "markdown",
   "id": "921002ea-e85f-4a08-b766-9d021b12ade7",
   "metadata": {},
   "source": [
    "## 8.Why is using logging messages better than using print() to display the same message?"
   ]
  },
  {
   "cell_type": "markdown",
   "id": "83149de7-ac59-46a5-a4fc-fd81705c6d64",
   "metadata": {},
   "source": [
    "* Easy to see where and when (even what line no.) a logging call is being made from.\n",
    "* You can log to files, sockets, pretty much anything, all at the same time.\n",
    "* You can differentiate your logging based on severity.\n",
    "\n",
    "And after development of your code, you don't need to search and remove print statements manually"
   ]
  },
  {
   "attachments": {
    "949a906d-c642-4101-a355-8f6f29e90cd6.png": {
     "image/png": "[encoded data removed]"
    },
    "cea921c4-9799-4a81-bffb-9bf6ed7b5f57.png": {
     "image/png": "[encoded data removed]"
    },
    "ee4c3608-9416-45f0-a99f-529b11fde806.png": {
     "image/png": "[encoded data removed]"
    }
   },
   "cell_type": "markdown",
   "id": "6cc09f12-b875-485b-84d8-26c7bbdf27d2",
   "metadata": {
    "jp-MarkdownHeadingCollapsed": true,
    "tags": []
   },
   "source": [
    "## 9. What are the differences between the Step Over, Step In, and Step Out buttons in the debugger?\n",
    "* **Step in** ![image.png](attachment:cea921c4-9799-4a81-bffb-9bf6ed7b5f57.png) - Step In button will cause the debugger to execute the next line of code and then pause again.\n",
    "* **Step Over** ![image.png](attachment:ee4c3608-9416-45f0-a99f-529b11fde806.png) -Step Over button will execute the next line of code, similar to the Step In button. However, if the next line of code is a function call, the Step Over button will “step over” the code in the function. The function’s code will be executed at full speed, and the debugger will pause as soon as the function call returns.\n",
    "* **Step out** ![image.png](attachment:949a906d-c642-4101-a355-8f6f29e90cd6.png) - Step Out button will cause the debugger to execute lines of code at full speed until it returns from the current function."
   ]
  },
  {
   "cell_type": "markdown",
   "id": "a2658ac1-0473-4ff5-9704-9fbca91e6c01",
   "metadata": {},
   "source": [
    "## 10.After you click Continue, when will the debugger stop ?\n",
    "Continue button will cause the program to continue running normally, without pausing for debugging until it terminates or reaches a breakpoint."
   ]
  },
  {
   "cell_type": "markdown",
   "id": "cc74e7ed-92d8-4dd4-bae1-247ffc8e29a9",
   "metadata": {},
   "source": [
    "## 11. What is the concept of a breakpoint?\n",
    "A breakpoint is an intentional stopping or pausing place in a program, put in place for debugging purposes."
   ]
  }
 ],
 "metadata": {
  "kernelspec": {
   "display_name": "Python 3 (ipykernel)",
   "language": "python",
   "name": "python3"
  },
  "language_info": {
   "codemirror_mode": {
    "name": "ipython",
    "version": 3
   },
   "file_extension": ".py",
   "mimetype": "text/x-python",
   "name": "python",
   "nbconvert_exporter": "python",
   "pygments_lexer": "ipython3",
   "version": "3.10.5"
  }
 },
 "nbformat": 4,
 "nbformat_minor": 5
}
