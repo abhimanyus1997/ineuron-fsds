{
 "cells": [
  {
   "cell_type": "markdown",
   "id": "247f8b12-1aa1-48ae-93f0-1257258d835e",
   "metadata": {},
   "source": [
    "# Assignment 9 - Python Basics"
   ]
  },
  {
   "cell_type": "markdown",
   "id": "22a1f0a1-02dd-4731-9a8e-b4c14daab19a",
   "metadata": {},
   "source": [
    " ## 1. To what does a relative path refer?\n",
    " A relative path refers to a location that is relative to a current directory.\n",
    " In python the Current Directory path can be found using `pwd()` function or using `os.getcwd()`"
   ]
  },
  {
   "cell_type": "code",
   "execution_count": 6,
   "id": "95ba98de-eb58-4040-a4ee-71fa2f99ca5e",
   "metadata": {},
   "outputs": [
    {
     "data": {
      "text/plain": [
       "'C:\\\\Users\\\\abhim\\\\Py Notebook\\\\ineuron\\\\Assignments\\\\ineuron-fsds\\\\Python Basics'"
      ]
     },
     "execution_count": 6,
     "metadata": {},
     "output_type": "execute_result"
    }
   ],
   "source": [
    "pwd()"
   ]
  },
  {
   "cell_type": "code",
   "execution_count": 7,
   "id": "6b58ccfc-0ec8-4b39-b2a1-1d0dd9cb7891",
   "metadata": {},
   "outputs": [
    {
     "data": {
      "text/plain": [
       "'C:\\\\Users\\\\abhim\\\\Py Notebook\\\\ineuron\\\\Assignments\\\\ineuron-fsds\\\\Python Basics'"
      ]
     },
     "execution_count": 7,
     "metadata": {},
     "output_type": "execute_result"
    }
   ],
   "source": [
    "import os \n",
    "os.getcwd()"
   ]
  },
  {
   "cell_type": "markdown",
   "id": "552a8a91-985e-4bf1-bd94-28f0d9ce49d7",
   "metadata": {},
   "source": [
    ">**Note:** PWD + relative path = absolute path"
   ]
  },
  {
   "cell_type": "markdown",
   "id": "2ada159d-e19a-421d-ba88-913906f57618",
   "metadata": {},
   "source": [
    " ## 2. What does an absolute path start with your operating system?\n",
    " An absolute path is defined as the specifying the location of a file or directory from the root directory(/).\n",
    " \n",
    "* For windows it is starts with `C:`  \n",
    "* For Linux it starts with `/`"
   ]
  },
  {
   "cell_type": "markdown",
   "id": "7eccf094-dd05-4e01-90d9-ebf465a489a3",
   "metadata": {
    "tags": []
   },
   "source": [
    " ## 3. What do the functions os.getcwd() and os.chdir() do?\n",
    "OS module in Python provides functions for interacting with the operating system\n",
    "\n",
    "* `os.getcwd()` method to get current working directory \n",
    "* `os.chdir()` method in Python used to change the current working directory to specified path. It takes only a single argument as new directory path."
   ]
  },
  {
   "cell_type": "code",
   "execution_count": 24,
   "id": "e3c06b2c-cfde-4bd9-9299-e0719829f9f4",
   "metadata": {},
   "outputs": [
    {
     "name": "stdout",
     "output_type": "stream",
     "text": [
      "C:\\Users\\abhim\\Py Notebook\\ineuron\n",
      "C:\\Users\\abhim\\Py Notebook\\ineuron\\Assignments\n",
      "************************************************** \n",
      " Printing Tree Structure\n",
      "Folder PATH listing for volume Acer\n",
      "Volume serial number is E29C-22B7\n",
      "C:.\n",
      "+---.ipynb_checkpoints\n",
      "+---ineuron-fsds\n",
      "    +---Python Basics\n",
      "        +---.ipynb_checkpoints\n"
     ]
    }
   ],
   "source": [
    "import os\n",
    "print(os.getcwd()) # Prints the current Working Directory\n",
    "\n",
    "path = r'C:\\Users\\abhim\\Py Notebook\\ineuron\\Assignments'\n",
    "os.chdir(path)\n",
    "print(os.getcwd()) # Prints the current Working Directory\n",
    "\n",
    "print(\"*\"*50,\"\\n\",\"Printing Tree Structure\")\n",
    "!tree\n"
   ]
  },
  {
   "cell_type": "markdown",
   "id": "70a0d5c3-42b1-4bbc-8ef5-2e0b7642c122",
   "metadata": {},
   "source": [
    " ## 4. What are the . and .. folders?\n",
    " * `.` Represents the Current Directory\n",
    " * `..` Represents the Parent Directory of the Current Directory"
   ]
  },
  {
   "cell_type": "markdown",
   "id": "b3a0f399-ffaa-44c1-af17-ed8c5cf595f0",
   "metadata": {},
   "source": [
    " ## 5. In C:\\bacon\\eggs\\spam.txt, which part is the dir name, and which part is the base name?\n"
   ]
  },
  {
   "cell_type": "markdown",
   "id": "150fec14-9904-40e1-8487-28a98fd8836c",
   "metadata": {},
   "source": [
    "The dir name is `C:\\\\bacon\\\\eggs`  \n",
    "The Base name is `spam.txt`"
   ]
  },
  {
   "cell_type": "markdown",
   "id": "e85c987f-69a4-41c6-b80b-88fade1bf83a",
   "metadata": {},
   "source": [
    " ## 6. What are the three “mode” arguments that can be passed to the open() function?"
   ]
  },
  {
   "cell_type": "markdown",
   "id": "fd56e39d-4c77-42a2-8620-c17a3a399774",
   "metadata": {},
   "source": [
    "A file can be Accessed in python using `open()` function. open function takes two arguments filename and mode of operation (optional). if mode is not provided the default mode of opening is read mode\n",
    "  \n",
    "**Syntax:**\n",
    "```Python\n",
    "open(filename, mode)\n",
    "```\n",
    "* `r` – Read Mode: This is the default mode for open(). The file is opened and a pointer is positioned at the beginning of the file’s content.\n",
    "* `w `– Write Mode: Using this mode will overwrite any existing content in a file. If the given file does not exist, a new one will be created.\n",
    "* `r+` – Read/Write Mode: Use this mode if you need to simultaneously read and write to a file.\n",
    "*` a `– Append Mode: With this mode the user can append the data without overwriting any already existing data in the file.\n",
    "* `a+` – Append and Read Mode: In this mode you can read and append the data without overwriting the original file.\n",
    "* `x` – Exclusive Creating Mode: This mode is for the sole purpose of creating new files. Use this mode if you know the file to be written doesn’t exist beforehand."
   ]
  },
  {
   "cell_type": "markdown",
   "id": "57ebfb96-0794-407f-a126-89f78b9b0d23",
   "metadata": {},
   "source": [
    "\n",
    " ## 7. What happens if an existing file is opened in write mode?"
   ]
  },
  {
   "cell_type": "markdown",
   "id": "e7b0c40a-3c88-4a49-bc07-0f6bb6caa4ff",
   "metadata": {},
   "source": [
    "Using this mode will overwrite any existing content in a file. If the given file does not exist, a new one will be create"
   ]
  },
  {
   "cell_type": "markdown",
   "id": "3acd1244-a992-486f-82da-d2444ca2e37f",
   "metadata": {},
   "source": [
    " ## 8. How do you tell the difference between read() and readlines()?\n",
    "* `read()` will read the whole file at once and then print out the first characters that take up as many bytes as you specify in the parenthesis\n",
    "* `readline()`  will read and print out only the first characters that take up as many bytes as you specify in the parenthesis."
   ]
  },
  {
   "cell_type": "markdown",
   "id": "7a448844-3633-4a24-a8d4-508c365f27c1",
   "metadata": {},
   "source": [
    " ## 9. What data structure does a shelf value resemble?"
   ]
  },
  {
   "cell_type": "markdown",
   "id": "60710368-982d-40c4-a5dc-8b79ac6de7de",
   "metadata": {},
   "source": [
    "A shelf value resembles a dictionary value; it has keys and values, along with `keys()` and `values()` methods that work similarly to the dictionary methods of the same namesit contains key and values it represents dictionary."
   ]
  }
 ],
 "metadata": {
  "kernelspec": {
   "display_name": "Python 3 (ipykernel)",
   "language": "python",
   "name": "python3"
  },
  "language_info": {
   "codemirror_mode": {
    "name": "ipython",
    "version": 3
   },
   "file_extension": ".py",
   "mimetype": "text/x-python",
   "name": "python",
   "nbconvert_exporter": "python",
   "pygments_lexer": "ipython3",
   "version": "3.10.5"
  }
 },
 "nbformat": 4,
 "nbformat_minor": 5
}
