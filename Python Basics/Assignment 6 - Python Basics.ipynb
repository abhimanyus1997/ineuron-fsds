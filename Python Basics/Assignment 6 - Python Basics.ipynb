{
 "cells": [
  {
   "cell_type": "markdown",
   "id": "7906e652",
   "metadata": {},
   "source": [
    "# Assignment 6 - Python Basics"
   ]
  },
  {
   "cell_type": "markdown",
   "id": "536940ba",
   "metadata": {},
   "source": [
    "## 1. What are escape characters, and how do you use them?\n",
    "**Ans-** Escape sequences allow you to include special characters in strings. To do this, simply add a backslash (\\) before the character you want to escape.  \n",
    "List of some escape character available in python:-\n",
    "* `\\'`\tSingle Quote\t\n",
    "* `\\\\`\tBackslash\t\n",
    "* `\\n`\tNew Line\t\n",
    "* `\\r`\tCarriage Return\t\n",
    "* `\\t`\tTab\t\n",
    "* `\\b`\tBackspace\t\n",
    "* `\\f`\tForm Feed\t\n",
    "* `\\ooo`\tOctal value\t\n",
    "* `\\xhh`\tHex value"
   ]
  },
  {
   "cell_type": "markdown",
   "id": "4d576b21",
   "metadata": {},
   "source": [
    "## 2. What do the escape characters n and t stand for?\n",
    "**Ans-**`\\n` New Line ans `\\t` Tab"
   ]
  },
  {
   "cell_type": "markdown",
   "id": "ef9eb78c",
   "metadata": {},
   "source": [
    "## 3. What is the way to include backslash characters in a string?\n",
    "**Ans-** By using `\\\\` in a string"
   ]
  },
  {
   "cell_type": "markdown",
   "id": "171e057a",
   "metadata": {},
   "source": [
    "## 4. The string &quot;Howl&#39;s Moving Castle&quot; is a correct value. Why isn&#39;t the single quote character in the word Howl&#39;s not escaped a problem?\n",
    "**Ans-** Because it is enclosed in a double quotes.  \n",
    "We could have also used\n",
    "```python\n",
    "print('Howl\\'s Moving Castle')\n",
    "```"
   ]
  },
  {
   "cell_type": "markdown",
   "id": "d761e179",
   "metadata": {},
   "source": [
    "## 5. How do you write a string of newlines if you don&#39;t want to use the n character?\n",
    "**Ans-** by using triple quotes"
   ]
  },
  {
   "cell_type": "code",
   "execution_count": 2,
   "id": "cb35e78d",
   "metadata": {},
   "outputs": [
    {
     "name": "stdout",
     "output_type": "stream",
     "text": [
      "\n",
      "Hello world !\n",
      "This is a multiline String paragraph\n",
      "Thank you 🙋🏻‍♂️\n",
      "\n"
     ]
    }
   ],
   "source": [
    "para = '''\n",
    "Hello world !\n",
    "This is a multiline String paragraph\n",
    "Thank you 🙋🏻‍♂️\n",
    "'''\n",
    "\n",
    "print(para)"
   ]
  },
  {
   "cell_type": "markdown",
   "id": "fd14ca95",
   "metadata": {},
   "source": [
    "## 6. What are the values of the given expressions?   <br>&#39;Hello, world!&#39;[1]  <br>&#39;Hello, world!&#39;[0:5]  <br>&#39;Hello, world!&#39;[:5]  <br>&#39;Hello, world!&#39;[3:]\n",
    "**Ans-**"
   ]
  },
  {
   "cell_type": "code",
   "execution_count": 4,
   "id": "2d35fe67",
   "metadata": {},
   "outputs": [
    {
     "name": "stdout",
     "output_type": "stream",
     "text": [
      "e\n",
      "Hello\n",
      "Hello\n",
      "lo, world!\n"
     ]
    }
   ],
   "source": [
    "print('Hello, world!'[1])            #'e'\n",
    "print('Hello, world!'[0:5])          #'Hello'\n",
    "print('Hello, world!'[:5])           #'Hello'\n",
    "print('Hello, world!'[3:])           #'lo, world!'"
   ]
  },
  {
   "cell_type": "markdown",
   "id": "3a7d8618",
   "metadata": {},
   "source": [
    "## 7. What are the values of the following expressions?<br> &#39;Hello&#39;.upper()<br> &#39;Hello&#39;.upper().isupper()<br> &#39;Hello&#39;.upper().lower()\n",
    "**Ans-**\n",
    "* `'Hello'.upper()` gives `'HELLO'`\n",
    "* `'Hello'.upper().isupper()`gives `True`\n",
    "* `'Hello'.upper().lower()`  gives `'hello'`"
   ]
  },
  {
   "cell_type": "code",
   "execution_count": 5,
   "id": "8294a1c3",
   "metadata": {},
   "outputs": [
    {
     "name": "stdout",
     "output_type": "stream",
     "text": [
      "HELLO\n",
      "True\n",
      "hello\n"
     ]
    }
   ],
   "source": [
    "print('Hello'.upper())\n",
    "print('Hello'.upper().isupper())\n",
    "print('Hello'.upper().lower())"
   ]
  },
  {
   "cell_type": "markdown",
   "id": "a6500bed",
   "metadata": {},
   "source": [
    "## 8. What are the values of the following expressions?<br>&#39;Remember, remember, the fifth of July.&#39;.split() <br>&#39;-&#39;.join(&#39;There can only one.&#39;.split())\n",
    "**Ans-**\n",
    "* `'Remember, remember, the fifith of July.'.split()` ⇒ <br>&nbsp;\n",
    "  ['Remember,', 'remember,', 'the', 'fifith', 'of', 'July.']\n",
    "* `'-'.join('There can only one'.split())` ⇒ There-can-only-one"
   ]
  },
  {
   "cell_type": "code",
   "execution_count": 6,
   "id": "c3d669c2",
   "metadata": {},
   "outputs": [
    {
     "name": "stdout",
     "output_type": "stream",
     "text": [
      "['Remember,', 'remember,', 'the', 'fifith', 'of', 'July.']\n",
      "There-can-only-one\n"
     ]
    }
   ],
   "source": [
    "print('Remember, remember, the fifith of July.'.split())\n",
    "print('-'.join('There can only one'.split()))"
   ]
  },
  {
   "cell_type": "markdown",
   "id": "ee0f0991",
   "metadata": {},
   "source": [
    "## 9. What are the methods for right-justifying, left-justifying, and centering a string?\n",
    "**Ans-** Using \n",
    "* `rjust()` Returns a left justified version of the string\n",
    "* `ljust()` Returns a right justified version of the string\n",
    "* `center()` Returns a centered string\n",
    "  \n",
    "  \n",
    "All the three methods take two arguments:-\n",
    "1. **length:** The length of the returned string\n",
    "1. **character:** A character to fill the missing space (to the right of the string). Default is \" \" (space)."
   ]
  },
  {
   "cell_type": "code",
   "execution_count": 16,
   "id": "43efe5cb",
   "metadata": {},
   "outputs": [
    {
     "name": "stdout",
     "output_type": "stream",
     "text": [
      "left aligned<<<<<<<<<<<<<<<<<<<<<<<<<<<<<<<<<<<<<<\n",
      ">>>>>>>>>>>>>>>>>>>>>>>>>>>>>>>>>>>>>Right aligned\n",
      "---------------This comes in center---------------\n"
     ]
    }
   ],
   "source": [
    "#left align\n",
    "lalign_ex = \"left aligned\".ljust(50, \"<\")\n",
    "print(lalign_ex)\n",
    "\n",
    "#Right align\n",
    "lalign_ex = \"Right aligned\".rjust(50, \">\")\n",
    "print(lalign_ex)\n",
    "\n",
    "# center\n",
    "centered_ex = \"This comes in center\".center(50,\"-\")\n",
    "print(centered_ex)"
   ]
  },
  {
   "cell_type": "markdown",
   "id": "cdefa9ca",
   "metadata": {},
   "source": [
    "## 10. What is the best way to remove whitespace characters from the start or end?\n",
    "**Ans-** Using `lstrip()` and `rstrip()` methods"
   ]
  },
  {
   "cell_type": "code",
   "execution_count": 20,
   "id": "407d557b",
   "metadata": {},
   "outputs": [
    {
     "name": "stdout",
     "output_type": "stream",
     "text": [
      "https://www.github.co \n",
      "abhimanyus1997\n"
     ]
    }
   ],
   "source": [
    "# Example: \n",
    "\n",
    "url = \"https://www.github.com/abhimanyus1997\"\n",
    "\n",
    "website = url.rstrip(\"/abhimanyus1997\")\n",
    "username = url.lstrip(\"https://www.github.com/\")\n",
    "\n",
    "print(f\"WEbsite:{website} \\nUsername:{username}\")"
   ]
  },
  {
   "cell_type": "code",
   "execution_count": null,
   "id": "eede102f",
   "metadata": {},
   "outputs": [],
   "source": []
  }
 ],
 "metadata": {
  "kernelspec": {
   "display_name": "Python 3 (ipykernel)",
   "language": "python",
   "name": "python3"
  },
  "language_info": {
   "codemirror_mode": {
    "name": "ipython",
    "version": 3
   },
   "file_extension": ".py",
   "mimetype": "text/x-python",
   "name": "python",
   "nbconvert_exporter": "python",
   "pygments_lexer": "ipython3",
   "version": "3.10.5"
  }
 },
 "nbformat": 4,
 "nbformat_minor": 5
}
