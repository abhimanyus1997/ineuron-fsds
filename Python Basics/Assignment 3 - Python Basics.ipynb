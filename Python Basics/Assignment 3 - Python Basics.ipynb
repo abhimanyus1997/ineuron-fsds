{
 "cells": [
  {
   "cell_type": "markdown",
   "id": "3b8d1891",
   "metadata": {},
   "source": [
    "# Assignment 3 - Basic Python"
   ]
  },
  {
   "cell_type": "markdown",
   "id": "687467b5",
   "metadata": {},
   "source": [
    "## 1. Why are functions advantageous to have in your programs? \n",
    "__Ans:__ Major advantages of using functions: -\n",
    "* Reducing duplication of code\n",
    "* Decomposing complex problems into simpler pieces\n",
    "* Improving clarity of the code\n",
    "* Reuse of code\n",
    "* Private Information hiding"
   ]
  },
  {
   "cell_type": "markdown",
   "id": "8913664e",
   "metadata": {},
   "source": [
    "## 2. When does the code in a function run: when it&#39;s specified or when it&#39;s called?\n",
    "__ANS:__ It runs when function is called \n",
    "> NOTE: But need specifiying the function else it will give `NameError: name 'function1' is not defined`)"
   ]
  },
  {
   "cell_type": "code",
   "execution_count": 2,
   "id": "f116c688",
   "metadata": {},
   "outputs": [
    {
     "ename": "NameError",
     "evalue": "name 'function1' is not defined",
     "output_type": "error",
     "traceback": [
      "\u001b[1;31m---------------------------------------------------------------------------\u001b[0m",
      "\u001b[1;31mNameError\u001b[0m                                 Traceback (most recent call last)",
      "Input \u001b[1;32mIn [2]\u001b[0m, in \u001b[0;36m<module>\u001b[1;34m\u001b[0m\n\u001b[1;32m----> 1\u001b[0m \u001b[43mfunction1\u001b[49m(\u001b[38;5;124m\"\u001b[39m\u001b[38;5;124mHi\u001b[39m\u001b[38;5;124m\"\u001b[39m)\n",
      "\u001b[1;31mNameError\u001b[0m: name 'function1' is not defined"
     ]
    }
   ],
   "source": [
    "function1(\"Hi\")"
   ]
  },
  {
   "cell_type": "markdown",
   "id": "6c0dad4f",
   "metadata": {},
   "source": [
    "## 3. What statement creates a function?\n",
    "**Ans:** `def` statement followed by *function_name(parameters):* creates a function\n",
    "\n",
    "```Python\n",
    "def myfunc(parameter1):\n",
    "    \"\"\" This is the Docstring\n",
    "    This sample function greets a user with paramater 1 as username\n",
    "    \"\"\"\n",
    "     greet = \"hi \" + parameter1     # Function body comes here\n",
    "     return greet                   #return type of function\n",
    "```"
   ]
  },
  {
   "cell_type": "markdown",
   "id": "c241e7f6",
   "metadata": {},
   "source": [
    "## 4. What is the difference between a function and a function call?\n",
    "**Ans:**   \n",
    "A function defines a way of performing some task or doing some processing. but it is not executed on its own.  \n",
    "\n",
    "Function need a function call to be executed and function call can be used to pass paramaters to function"
   ]
  },
  {
   "cell_type": "markdown",
   "id": "7034953c",
   "metadata": {},
   "source": [
    "## 5. How many global scopes are there in a Python program? How many local scopes?\n",
    "**Ans:** In python, there's only one **global scope** per program execution whereas a **local scope** is created whenever a function is called."
   ]
  },
  {
   "cell_type": "markdown",
   "id": "f256397d",
   "metadata": {},
   "source": [
    "## 6. What happens to variables in a local scope when the function call returns?\n",
    "__Ans:__  When a function returns, the local scope is destroyed, and all the variables in it will be freed from RAM/memory"
   ]
  },
  {
   "cell_type": "markdown",
   "id": "0464c458",
   "metadata": {},
   "source": [
    "## 7. What is the concept of a return value? Is it possible to have a return value in an expression?\n",
    "__Ans:__ Return value is the value that a function return after evaluating some alogrithm/mini-program inside the function body. If no return value is give even then function return `None` type value.  \n",
    "\n",
    "This return value can be used in any expression (logical/arithmetic)"
   ]
  },
  {
   "cell_type": "markdown",
   "id": "4bfae7a1",
   "metadata": {},
   "source": [
    "## 8. If a function does not have a return statement, what is the return value of a call to that function?\n",
    "__Ans:__ If no return value is give even then function return `None` type value."
   ]
  },
  {
   "cell_type": "markdown",
   "id": "42d413f1",
   "metadata": {},
   "source": [
    "## 9. How do you make a function variable refer to the global variable?\n",
    "__Ans:__  In Python, `global` keyword allows you to modify the variable outside of the current scope, so it can be used to force a variable to refer to global variable "
   ]
  },
  {
   "cell_type": "markdown",
   "id": "40a0656d",
   "metadata": {},
   "source": [
    "## 10. What is the data type of None?\n",
    "__Ans:__ The data type of None is NoneType."
   ]
  },
  {
   "cell_type": "code",
   "execution_count": 5,
   "id": "062af451",
   "metadata": {},
   "outputs": [
    {
     "data": {
      "text/plain": [
       "NoneType"
      ]
     },
     "execution_count": 5,
     "metadata": {},
     "output_type": "execute_result"
    }
   ],
   "source": [
    "type(None)"
   ]
  },
  {
   "cell_type": "markdown",
   "id": "a7cb1014",
   "metadata": {},
   "source": [
    "## 11. What does the sentence import areallyourpetsnamederic do?\n",
    "__Ans:__ It will import a module named *areallyourpetsnamederic*"
   ]
  },
  {
   "cell_type": "markdown",
   "id": "0557c90d",
   "metadata": {},
   "source": [
    "## 12. If you had a bacon() feature in a spam module, what would you call it after importing spam?\n",
    "__Ans:__  using `spam.bacon()`"
   ]
  },
  {
   "cell_type": "markdown",
   "id": "2ba21678",
   "metadata": {},
   "source": [
    "## 13. What can you do to save a programme from crashing if it encounters an error?\n",
    "**Ans:** Using Exception handling feature of python: \n",
    "* `try` to ignore the error and\n",
    "* `except` to handle the error"
   ]
  },
  {
   "cell_type": "markdown",
   "id": "0f9d092f",
   "metadata": {},
   "source": [
    "## 14. What is the purpose of the try clause? What is the purpose of the except clause?\n",
    "**Ans:**  \n",
    "* `try` block tests a block of code for errors.\n",
    "* `except` block handles the error"
   ]
  }
 ],
 "metadata": {
  "kernelspec": {
   "display_name": "Python 3 (ipykernel)",
   "language": "python",
   "name": "python3"
  },
  "language_info": {
   "codemirror_mode": {
    "name": "ipython",
    "version": 3
   },
   "file_extension": ".py",
   "mimetype": "text/x-python",
   "name": "python",
   "nbconvert_exporter": "python",
   "pygments_lexer": "ipython3",
   "version": "3.10.5"
  }
 },
 "nbformat": 4,
 "nbformat_minor": 5
}
