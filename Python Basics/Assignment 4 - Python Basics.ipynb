{
 "cells": [
  {
   "cell_type": "markdown",
   "id": "d3098fa1",
   "metadata": {},
   "source": [
    "# Assignment 4 - Python Basics"
   ]
  },
  {
   "cell_type": "markdown",
   "id": "4e9bea0e",
   "metadata": {},
   "source": [
    "## 1. What exactly is []?\n",
    "**Ans**: `[]` represents an empty List. These square braceks are used for enclosing elements of list"
   ]
  },
  {
   "cell_type": "markdown",
   "id": "90553db9",
   "metadata": {},
   "source": [
    "## 2. In a list of values stored in a variable called spam, how would you assign the value &#39;hello&#39; as the third value? (Assume [2, 4, 6, 8, 10] are in spam.) \n",
    "\n",
    "**Ans:** `spam[2]='hello'`"
   ]
  },
  {
   "cell_type": "code",
   "execution_count": 20,
   "id": "97837074",
   "metadata": {},
   "outputs": [
    {
     "name": "stdout",
     "output_type": "stream",
     "text": [
      "[2, 4, 'hello', 8, 10]\n"
     ]
    }
   ],
   "source": [
    "#Given:\n",
    "spam = [2, 4, 6, 8, 10]\n",
    "\n",
    "# Modification required:\n",
    "spam[2] = 'hello'\n",
    "print(spam)"
   ]
  },
  {
   "cell_type": "markdown",
   "id": "e994c074",
   "metadata": {},
   "source": [
    "## 3. Let&#39;s pretend the spam includes the list [&#39;a&#39;, &#39;b&#39;, &#39;c&#39;, &#39;d&#39;] for the next three queries. <br> What is the value of spam[int(int(&#39;3&#39; * 2) / 11)]?\n",
    "\n",
    "**Ans:** `'3'*2` gives `33` and `33/11` gives `3`. So, it evaluates `spam[3]` which equals `d`"
   ]
  },
  {
   "cell_type": "code",
   "execution_count": 21,
   "id": "d9ac311e",
   "metadata": {},
   "outputs": [
    {
     "data": {
      "text/plain": [
       "'d'"
      ]
     },
     "execution_count": 21,
     "metadata": {},
     "output_type": "execute_result"
    }
   ],
   "source": [
    "spam = ['a','b','c','d']\n",
    "spam[int(int('3'*2)/11)]"
   ]
  },
  {
   "cell_type": "markdown",
   "id": "ae837968",
   "metadata": {},
   "source": [
    "## 4. What is the value of spam[-1]?\n",
    "**Ans:** It returns last value of spam list ,i.e., `d`"
   ]
  },
  {
   "cell_type": "code",
   "execution_count": 22,
   "id": "5ab8c3a5",
   "metadata": {},
   "outputs": [
    {
     "data": {
      "text/plain": [
       "'d'"
      ]
     },
     "execution_count": 22,
     "metadata": {},
     "output_type": "execute_result"
    }
   ],
   "source": [
    "spam[-1]"
   ]
  },
  {
   "cell_type": "markdown",
   "id": "b89aa1c6",
   "metadata": {},
   "source": [
    "## 5. What is the value of spam[:2]?\n",
    "**Ans:** It returns elements of spam list from index 0 to 2 (excluding 2) ,.ie., `spam[0]` and `spam[1]`"
   ]
  },
  {
   "cell_type": "code",
   "execution_count": 23,
   "id": "0b862d34",
   "metadata": {},
   "outputs": [
    {
     "data": {
      "text/plain": [
       "['a', 'b']"
      ]
     },
     "execution_count": 23,
     "metadata": {},
     "output_type": "execute_result"
    }
   ],
   "source": [
    "spam[:2]"
   ]
  },
  {
   "cell_type": "markdown",
   "id": "ba40c055",
   "metadata": {},
   "source": [
    "## 6.  Let&#39;s pretend bacon has the list [3.14, &#39;cat,&#39; 11, &#39;cat,&#39; True] for the next three questions. <br> What is the value of bacon.index(&#39;cat&#39;)?\n",
    "\n",
    "__Ans:__ It returns the value of index of element (first occurance) whose value is 'cat'. In this case it gives `1`"
   ]
  },
  {
   "cell_type": "code",
   "execution_count": 24,
   "id": "9a40b13c",
   "metadata": {},
   "outputs": [
    {
     "data": {
      "text/plain": [
       "1"
      ]
     },
     "execution_count": 24,
     "metadata": {},
     "output_type": "execute_result"
    }
   ],
   "source": [
    "bacon=[3.14,'cat',11,'cat',True]\n",
    "bacon.index('cat')      #Gives index value of element with given value"
   ]
  },
  {
   "cell_type": "markdown",
   "id": "339733a3",
   "metadata": {},
   "source": [
    "## 7. How does bacon.append(99) change the look of the list value in bacon?\n",
    "__Ans:__  `bacon.append(99)` will add new element at end of list. Here `99` is added at the end"
   ]
  },
  {
   "cell_type": "code",
   "execution_count": 25,
   "id": "79b3fa52",
   "metadata": {},
   "outputs": [
    {
     "name": "stdout",
     "output_type": "stream",
     "text": [
      "Before bacon.append(99): [3.14, 'cat', 11, 'cat', True]\n",
      "After bacon.append(99): [3.14, 'cat', 11, 'cat', True, 99]\n"
     ]
    }
   ],
   "source": [
    "print(f\"Before bacon.append(99): {bacon}\")\n",
    "bacon.append(99)\n",
    "print(f\"After bacon.append(99): {bacon}\")"
   ]
  },
  {
   "cell_type": "markdown",
   "id": "556de077",
   "metadata": {},
   "source": [
    "## 8. How does bacon.remove(&#39;cat&#39;) change the look of the list in bacon?\n",
    "__Ans:__ `remove` method deletes the first occurance of the element with the value=*cat* from the list *bacon*"
   ]
  },
  {
   "cell_type": "code",
   "execution_count": 26,
   "id": "ec1921e4",
   "metadata": {},
   "outputs": [
    {
     "name": "stdout",
     "output_type": "stream",
     "text": [
      "List before remove method: [3.14, 'cat', 11, 'cat', True, 99]\n",
      "Return Type is : None\n",
      "List After remove method: [3.14, 11, 'cat', True, 99]\n"
     ]
    }
   ],
   "source": [
    "print(f\"List before remove method: {bacon}\")\n",
    "print(\"Return Type is :\",bacon.remove('cat')) # returns None Type\n",
    "print(f\"List After remove method: {bacon}\")"
   ]
  },
  {
   "cell_type": "markdown",
   "id": "e6b67eb1",
   "metadata": {},
   "source": [
    "## 9. What are the list concatenation and list replication operators?\n",
    "__Ans:__ `+` is list concatenation and `*` is list replication operator"
   ]
  },
  {
   "cell_type": "code",
   "execution_count": 27,
   "id": "d8d74c50",
   "metadata": {},
   "outputs": [
    {
     "name": "stdout",
     "output_type": "stream",
     "text": [
      "Concatenated List:  ['a', 'b', 'c', 'd', 1, 2, 3, 4, 5] \n",
      "\n",
      "Replicated List1:  ['a', 'b', 'c', 'd', 'a', 'b', 'c', 'd']\n",
      "Replicated List2:  [1, 2, 3, 4, 5, 1, 2, 3, 4, 5]\n"
     ]
    }
   ],
   "source": [
    "l1 = [\"a\",\"b\",\"c\",\"d\"]\n",
    "l2 = [1,2,3,4,5]\n",
    "\n",
    "#list COncatenation\n",
    "print(\"Concatenated List: \",l1+l2,\"\\n\")\n",
    "\n",
    "#list Replication\n",
    "print(\"Replicated List1: \",l1*2)\n",
    "print(\"Replicated List2: \",l2*2)"
   ]
  },
  {
   "cell_type": "markdown",
   "id": "46d7de64",
   "metadata": {},
   "source": [
    "## 10. What is difference between the list methods append() and insert()?\n",
    "__Ans:__ `append()` adds values only to the end of a list while `insert()`  adds them anywhere in the list (with first parameter as the position)"
   ]
  },
  {
   "cell_type": "markdown",
   "id": "82618cd1",
   "metadata": {},
   "source": [
    "## 11. What are the two methods for removing items from a list?\n",
    "__Ans:__\n",
    "* `clear()` method removes all items\n",
    "* `pop()` method remove an item by index and get its value\n",
    "* `remove()` method removes an item by value\n",
    "* `del` keyword remove items by index or slice or the whole list"
   ]
  },
  {
   "cell_type": "code",
   "execution_count": 28,
   "id": "03a0eb9a",
   "metadata": {},
   "outputs": [
    {
     "name": "stdout",
     "output_type": "stream",
     "text": [
      "Original List : [0, 2, 4, 6, 8, 10, 12, 14, 16, 18, 20]\n",
      "\n",
      "Clear Return Type:  None\n",
      "Clear() List : []\n",
      "\n",
      "Pop Return Type:  20\n",
      "Pop() List : [0, 2, 4, 6, 8, 10, 12, 14, 16, 18]\n",
      "\n",
      "Remove Return Type (removed element with value 10):  None\n",
      "Pop() List : [0, 2, 4, 6, 8, 12, 14, 16, 18, 20]\n",
      "\n",
      "del list_even[:5] : [10, 12, 14, 16, 18, 20]\n"
     ]
    }
   ],
   "source": [
    "list_even = list(range(0,22,2))\n",
    "#Original List \n",
    "print(f\"Original List : {list_even}\")\n",
    "\n",
    "#clear method\n",
    "print(\"\\nClear Return Type: \",list_even.clear())\n",
    "print(f\"Clear() List : {list_even}\")\n",
    "\n",
    "#pop method\n",
    "list_even = list(range(0,22,2))\n",
    "print(\"\\nPop Return Type: \",list_even.pop())\n",
    "print(f\"Pop() List : {list_even}\")\n",
    "\n",
    "#remove method\n",
    "list_even = list(range(0,22,2))\n",
    "print(\"\\nRemove Return Type (removed element with value 10): \",list_even.remove(10))\n",
    "print(f\"Pop() List : {list_even}\")\n",
    "\n",
    "\n",
    "#del\n",
    "list_even = list(range(0,22,2))\n",
    "del list_even[:5]              #Deletes element from start till 5th index (excluded 5th)\n",
    "print(f\"\\ndel list_even[:5] : {list_even}\")"
   ]
  },
  {
   "cell_type": "markdown",
   "id": "686cb4cb",
   "metadata": {},
   "source": [
    "## 12. Describe how list values and string values are identical.\n",
    "__Ans:__ Both list and strings are sequence data type in python. They both can be passed to `len()` function, have indices, support slicing operations, along with concatination & replication operations using `+` and `*` operators. Along with inbuilt support of `in` & `not in` keyword in python with for/while loops."
   ]
  },
  {
   "cell_type": "markdown",
   "id": "ce2a858e",
   "metadata": {},
   "source": [
    "## 13. What&#39;s the difference between tuples and lists?\n",
    "**Ans-** The key difference is that *Tuples* are **Immutable** (i.e., cannot be changed) while *List* are **Mutable** in nature. Also, Syntactically, Tuples are enclosed in `()` while Lists are enclosed in `[]`\n"
   ]
  },
  {
   "cell_type": "markdown",
   "id": "ae03eb44",
   "metadata": {},
   "source": [
    "## 14. How do you type a tuple value that only contains the integer 42?\n",
    "**Ans:**  A tuple with one item is constructed by following a value with a comma (it is not sufficient to enclose a single value in parentheses). So, \n",
    "\n",
    "```Python \n",
    "tuple1 = (42)                   #this will be an integer\n",
    "tuple2 = (42,)                  #this will be a tuple\n",
    "```"
   ]
  },
  {
   "cell_type": "code",
   "execution_count": 29,
   "id": "3c2e0f69",
   "metadata": {},
   "outputs": [
    {
     "name": "stdout",
     "output_type": "stream",
     "text": [
      "<class 'int'>\n",
      "<class 'tuple'>\n",
      "<class 'list'>\n"
     ]
    }
   ],
   "source": [
    "tuple1 = (42)                   #this will be an integer\n",
    "print(type(tuple1))\n",
    "\n",
    "tuple2 = (42,)                  #this will be a tuple\n",
    "print(type(tuple2))\n",
    "\n",
    "\n",
    "list1 = [42]                   #No such problem in case of list\n",
    "print(type(list1))"
   ]
  },
  {
   "cell_type": "markdown",
   "id": "91abd596",
   "metadata": {},
   "source": [
    "## 15. How do you get a list value&#39;s tuple form? How do you get a tuple value&#39;s list form?\n",
    "**Ans-** Using the methods like `list()` and `tuple()` we can explicitly typecast them"
   ]
  },
  {
   "cell_type": "markdown",
   "id": "159a73ea",
   "metadata": {},
   "source": [
    "## 16. Variables that &quot;contain&quot; list values are not necessarily lists themselves. Instead, what do they contain?\n",
    "**Ans-**  These Variables will contain references to list values rather than list values themselves"
   ]
  },
  {
   "cell_type": "markdown",
   "id": "1d4d5157",
   "metadata": {},
   "source": [
    "## 17. How do you distinguish between copy.copy() and copy.deepcopy()?\n",
    "\n",
    "**Ans-** The difference between shallow and deep copying is only relevant for compound objects (objects that contain other objects, like lists or class instances):  \n",
    "\n",
    "* A **shallow copy** constructs a new compound object and then (to the extent possible) inserts references into it to the objects found in the original.  \n",
    "\n",
    "* A **deep copy** constructs a new compound object and then, recursively, inserts copies into it of the objects found in the original.  \n",
    "\n",
    "\n",
    "We can use `id()` method to find memory address of the varibale and can check if its deep copy or shallow copy as shown below\n",
    "\n",
    ">**NOTE:** Assignment statements do not copy objects, they create bindings between a target and an object. "
   ]
  },
  {
   "cell_type": "code",
   "execution_count": 30,
   "id": "06fb3f57",
   "metadata": {},
   "outputs": [
    {
     "name": "stdout",
     "output_type": "stream",
     "text": [
      "Original List c: [[1, 2, 3], [4, 5, 6]]\n",
      "--------------------------------------------------\n",
      "Normal Copy using Assignment Operator: \n",
      "Copied List d: [[1, 2, 3], [4, 5, 6]]\n",
      "Id of c: 2642286141376\n",
      "Id of d: 2642286141376\n",
      "Id of c[0]: 2642286082880\n",
      "Id of d[0]: 2642286082880\n",
      "\n",
      "Shallow copy using copy.copy(): \n",
      "Copied List e: [[1, 2, 3], [4, 5, 6]]\n",
      "Id of c: 2642286141376\n",
      "Id of e: 2642286141568\n",
      "Id of c[0]: 2642286082880\n",
      "Id of e[0]: 2642286082880\n",
      "\n",
      "Deep copy using copy.deepcopy(): \n",
      "Copied List f: [[1, 2, 3], [4, 5, 6]]\n",
      "Id of c: 2642286141376\n",
      "Id of f: 2642285890816\n",
      "Id of c[0]: 2642286082880\n",
      "Id of f[0]: 2642286082880\n"
     ]
    }
   ],
   "source": [
    "import copy\n",
    "\n",
    "a = [1, 2, 3]\n",
    "b = [4, 5, 6]\n",
    "c = [a, b]\n",
    "print(f\"Original List c: {c}\")\n",
    "print(\"-\"*50)\n",
    "\n",
    "# Normal Copy\n",
    "print(\"Normal Copy using Assignment Operator: \")\n",
    "d = c\n",
    "print(f\"Copied List d: {d}\")\n",
    "print(f\"Id of c: {id(c)}\\nId of d: {id(d)}\")\n",
    "print(f\"Id of c[0]: {id(c[0])}\\nId of d[0]: {id(d[0])}\")\n",
    "\n",
    "# Shallow Copy\n",
    "print(\"\\nShallow copy using copy.copy(): \")\n",
    "e = copy.copy(c)\n",
    "print(f\"Copied List e: {e}\")\n",
    "print(f\"Id of c: {id(c)}\\nId of e: {id(e)}\")\n",
    "print(f\"Id of c[0]: {id(c[0])}\\nId of e[0]: {id(e[0])}\")\n",
    "\n",
    "\n",
    "# Deep Copy\n",
    "print(\"\\nDeep copy using copy.deepcopy(): \")\n",
    "f = copy.copy(c)\n",
    "print(f\"Copied List f: {f}\")\n",
    "print(f\"Id of c: {id(c)}\\nId of f: {id(f)}\")\n",
    "print(f\"Id of c[0]: {id(c[0])}\\nId of f[0]: {id(f[0])}\")"
   ]
  }
 ],
 "metadata": {
  "kernelspec": {
   "display_name": "Python 3 (ipykernel)",
   "language": "python",
   "name": "python3"
  },
  "language_info": {
   "codemirror_mode": {
    "name": "ipython",
    "version": 3
   },
   "file_extension": ".py",
   "mimetype": "text/x-python",
   "name": "python",
   "nbconvert_exporter": "python",
   "pygments_lexer": "ipython3",
   "version": "3.10.5"
  }
 },
 "nbformat": 4,
 "nbformat_minor": 5
}
