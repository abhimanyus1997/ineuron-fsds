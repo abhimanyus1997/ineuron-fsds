{
 "cells": [
  {
   "cell_type": "markdown",
   "id": "4eb2e5c3",
   "metadata": {},
   "source": [
    "# Assignment 7 - Python Basics"
   ]
  },
  {
   "cell_type": "markdown",
   "id": "70fd3751",
   "metadata": {},
   "source": [
    "## 1. What is the name of the feature responsible for generating Regex objects?\n",
    "**Ans:** `re.compile()` is the function is responsible for generation of Regex objects. It is used to compile a regular expression pattern provided as a string into a regex pattern object `re.Pattern`\n",
    "\n",
    "__Syntax__\n",
    "```Python\n",
    "re.compile(pattern, flags=0)\n",
    "```\n",
    "\n",
    "* **pattern**: regex pattern in string format, which you are trying to match inside the target string.\n",
    "* **flags**: The expression’s behavior can be modified by specifying regex flag values. This is an optional parameter"
   ]
  },
  {
   "cell_type": "markdown",
   "id": "65a0fdd3",
   "metadata": {},
   "source": [
    "## 2. Why do raw strings often appear in Regex objects?\n",
    "\n",
    "As you may already know, the backslash has a special meaning in some cases because it may indicate an escape character or escape sequence in python. To avoid that conflict we used raw string."
   ]
  },
  {
   "cell_type": "markdown",
   "id": "a02bfae9-283e-4a01-aede-188efea856e9",
   "metadata": {},
   "source": [
    "## 3. What is the return value of the search() method?\n",
    "Python regex `re.search()` method looks for occurrences of the regex pattern inside the entire target string and returns the corresponding Match Object instance where the match found.\n",
    "\n",
    "**Syntax**\n",
    "```Python\n",
    "re.search(pattern, string, flags=0)\n",
    "```\n",
    "\n",
    "The `re.search()` returns only the first match to the pattern from the target string. Use a `re.search()` to search pattern anywhere in the string.\n",
    "\n",
    "The `re.search()` method returns a **Match object ( i.e., `re.Match`)**. This match object contains the following two items.\n",
    "\n",
    "* The tuple object contains the start and end index of a successful match.\n",
    "* Second, it contains an actual matching value that we can retrieve using a group() method."
   ]
  },
  {
   "cell_type": "code",
   "execution_count": 38,
   "id": "625e8717-b6f3-49fd-82e6-cc966ce2e875",
   "metadata": {},
   "outputs": [
    {
     "name": "stdout",
     "output_type": "stream",
     "text": [
      "Target String is :\n",
      "Emma is a baseball player who was born on June 17\n",
      "\n",
      "Return Type is Match Object:\n",
      "  <re.Match object; span=(10, 18), match='baseball'>\n"
     ]
    }
   ],
   "source": [
    "import re\n",
    "\n",
    "# Target String\n",
    "target_string = \"Emma is a baseball player who was born on June 17\"\n",
    "print(f\"Target String is :\\n{target_string}\\n\")\n",
    "# search() for eight-letter word\n",
    "result = re.search(r\"\\w{8}\", target_string)\n",
    "\n",
    "# Return type is match object\n",
    "print(\"Return Type is Match Object:\\n \", result)\n"
   ]
  },
  {
   "cell_type": "markdown",
   "id": "243447d8-a327-4636-9f06-30bd3874d357",
   "metadata": {},
   "source": [
    "## 4. From a Match item, how do you get the actual strings that match the pattern? \n",
    "\n",
    "The Match object has properties and methods used to retrieve information about the search, and the result:\n",
    "* `.span()` returns a tuple containing the start-, and end positions of the match.\n",
    "* `.string` returns the string passed into the function\n",
    "* `.group()` returns the part of the string where there was a match\n",
    "\n",
    "So `Match.group()` returns the part of the string where there was a match\n"
   ]
  },
  {
   "cell_type": "code",
   "execution_count": 39,
   "id": "2599e748-7fa3-4506-ba8d-c13da3445cfd",
   "metadata": {},
   "outputs": [
    {
     "name": "stdout",
     "output_type": "stream",
     "text": [
      "\n",
      "Matching word:  baseball\n"
     ]
    }
   ],
   "source": [
    "# print the matching word using group() method\n",
    "print(\"\\nMatching word: \", result.group()) \n",
    "# Output 'baseball'"
   ]
  },
  {
   "cell_type": "code",
   "execution_count": 40,
   "id": "c9017866-ca4f-4860-af20-81e391c9c880",
   "metadata": {},
   "outputs": [
    {
     "name": "stdout",
     "output_type": "stream",
     "text": [
      "Spain\n"
     ]
    }
   ],
   "source": [
    "#Example 2: \n",
    "    \n",
    "import re\n",
    "txt = \"The rain in Spain\"\n",
    "x = re.search(r\"\\bS\\w+\", txt) #any words that starts with an upper case \"S\"\n",
    "print(x.group())"
   ]
  },
  {
   "cell_type": "markdown",
   "id": "997532e1-93a2-4f11-8352-1d6d4aefbc19",
   "metadata": {},
   "source": [
    "## 5. In the regex which created from the r&#39;(\\d\\d\\d)-(\\d\\d\\d-\\d\\d\\d\\d)&#39;, what does group zero cover?Group 2? Group 1?\n",
    "n the Regex r'(\\d\\d\\d)-(\\d\\d\\d-\\d\\d\\d\\d)' the zero group covers the entire pattern match where as the first group cover (\\d\\d\\d) and the second group cover (\\d\\d\\d-\\d\\d\\d\\d)"
   ]
  },
  {
   "cell_type": "code",
   "execution_count": 41,
   "id": "343151c6-f478-4199-841e-eab240c77c38",
   "metadata": {},
   "outputs": [
    {
     "name": "stdout",
     "output_type": "stream",
     "text": [
      "('415', '555-4242')\n",
      "415-555-4242\n",
      "415\n",
      "555-4242\n"
     ]
    }
   ],
   "source": [
    "# Example Program\n",
    "import re\n",
    "phoneNumRegex = re.compile(r'(\\d\\d\\d)-(\\d\\d\\d-\\d\\d\\d\\d)')\n",
    "mo = phoneNumRegex.search('My number is 415-555-4242.')\n",
    "print(mo.groups()) # Prints all groups in a tuple format\n",
    "print(mo.group()) # Always returns the fully matched string \n",
    "print(mo.group(1)) # Returns the first group\n",
    "print(mo.group(2)) # Returns the second group"
   ]
  },
  {
   "cell_type": "markdown",
   "id": "22b2492a-e132-42f8-9aba-6e6721966a6b",
   "metadata": {
    "tags": []
   },
   "source": [
    "## 6. In standard expression syntax, parentheses and intervals have distinct meanings. How can you tell a regex that you want it to fit real parentheses and periods?\n",
    "The \\. \\( and \\) escape characters in the raw string passed to re.compile() will match actual parenthesis characters.\n"
   ]
  },
  {
   "cell_type": "code",
   "execution_count": 42,
   "id": "6ddb1f26-1912-470c-a684-f3be4c09f71e",
   "metadata": {},
   "outputs": [
    {
     "name": "stdout",
     "output_type": "stream",
     "text": [
      "(415) 555-4242\n"
     ]
    }
   ],
   "source": [
    "# Example Program\n",
    "import re\n",
    "phoneNumRegex = re.compile(r'(\\(\\d\\d\\d\\)) (\\d\\d\\d-\\d\\d\\d\\d)')\n",
    "mo = phoneNumRegex.search('My phone number is (415) 555-4242.')\n",
    "print(mo.group())"
   ]
  },
  {
   "cell_type": "markdown",
   "id": "1a8f3af0-b0f1-4eeb-ad38-f82b12e1630f",
   "metadata": {
    "tags": []
   },
   "source": [
    "## 7. The findall() method returns a string list or a list of string tuples. What causes it to return one of the two options?\n",
    "If the regex pattern has no groups, a list of strings matched is returned. if the regex pattern has groups, a list of tuple of strings is returned."
   ]
  },
  {
   "cell_type": "code",
   "execution_count": 43,
   "id": "894c0edb-9b25-4c56-9763-63fecb0a5bfd",
   "metadata": {},
   "outputs": [
    {
     "name": "stdout",
     "output_type": "stream",
     "text": [
      "[('(415)', '555-4242')]\n",
      "['415-555-4242']\n"
     ]
    }
   ],
   "source": [
    "# Example Program\n",
    "import re\n",
    "phoneNumRegex = re.compile(r'(\\(\\d\\d\\d\\)) (\\d\\d\\d-\\d\\d\\d\\d)')\n",
    "mo = phoneNumRegex.findall('My phone number is (415) 555-4242.')\n",
    "print(mo)\n",
    "\n",
    "# Example Program\n",
    "import re\n",
    "phoneNumRegex = re.compile(r'\\d{3}-\\d{3}-\\d{4}')\n",
    "mo = phoneNumRegex.findall('My number is 415-555-4242.')\n",
    "print(mo) # Prints all groups in a tuple format"
   ]
  },
  {
   "cell_type": "markdown",
   "id": "d708ca27-283d-4120-b01a-12492921a7f2",
   "metadata": {
    "tags": []
   },
   "source": [
    "## 8. In standard expressions, what does the | character mean?\n",
    " In Standard Expressions | means OR operator."
   ]
  },
  {
   "cell_type": "markdown",
   "id": "a7fd008b-7edc-461e-afce-f639fa6dcdfa",
   "metadata": {
    "tags": []
   },
   "source": [
    "## 9. In regular expressions, what does the character stand for?\n",
    "In regular Expressions, ? characters represents zero or one match of the preceeding group."
   ]
  },
  {
   "cell_type": "code",
   "execution_count": 44,
   "id": "b5b4bcb7-a0c0-4f58-84e6-20863e5b8645",
   "metadata": {},
   "outputs": [
    {
     "name": "stdout",
     "output_type": "stream",
     "text": [
      "<re.Match object; span=(0, 8), match='Superman'>\n",
      "<re.Match object; span=(0, 10), match='Superwoman'>\n"
     ]
    }
   ],
   "source": [
    "# Example Program\n",
    "import re\n",
    "match_1 = re.search(\"Super(wo)?man\",\"Superman returns\")\n",
    "print(match_1)\n",
    "match_2 = re.search(\"Super(wo)?man\",\"Superwoman returns\")\n",
    "print(match_2)"
   ]
  },
  {
   "cell_type": "markdown",
   "id": "4ed5f66c-8b7a-4052-a2cc-9d602e28545b",
   "metadata": {
    "tags": []
   },
   "source": [
    "## 10.In regular expressions, what is the difference between the + and * characters?\n",
    "In Regular Expressions, * Represents Zero ore more occurances of the preceeding group, whereas + represents one or more occurances of the preceeding group."
   ]
  },
  {
   "cell_type": "code",
   "execution_count": 45,
   "id": "2aa85f68-40b4-46f4-8970-b599e403e20d",
   "metadata": {
    "jp-MarkdownHeadingCollapsed": true,
    "tags": []
   },
   "outputs": [
    {
     "name": "stdout",
     "output_type": "stream",
     "text": [
      "<re.Match object; span=(0, 6), match='Batman'>\n",
      "None\n"
     ]
    }
   ],
   "source": [
    "import re\n",
    "match_1 = re.search(\"Bat(wo)*man\",\"Batman returns\")\n",
    "print(match_1)\n",
    "match_2 = re.search(\"Bat(wo)+man\",\"Batman returns\")\n",
    "print(match_2)"
   ]
  },
  {
   "cell_type": "markdown",
   "id": "2e217bbc-f324-4080-9c8c-85c0b45d63d3",
   "metadata": {
    "tags": []
   },
   "source": [
    "## 11. What is the difference between {4} and {4,5} in regular expression?"
   ]
  },
  {
   "cell_type": "markdown",
   "id": "02c2fd3b-5dd5-4834-8516-166afb8c455e",
   "metadata": {},
   "source": [
    "`{4}` means that its preceeding group should repeat 4 times. where as `{4,5}` means that its preceeding group should repeat mininum 4 times and maximum 5 times inclusively"
   ]
  },
  {
   "cell_type": "code",
   "execution_count": 46,
   "id": "187b4e7f-59e5-4cb9-b622-6119c7a91816",
   "metadata": {},
   "outputs": [
    {
     "name": "stdout",
     "output_type": "stream",
     "text": [
      "HaHaHa\n",
      "None\n"
     ]
    }
   ],
   "source": [
    "import re\n",
    "haRegex = re.compile(r'(Ha){3}')\n",
    "mo1 = haRegex.search('HaHaHa')\n",
    "mo2 = haRegex.search('Ha')\n",
    "print(mo1.group())\n",
    "print(mo2)"
   ]
  },
  {
   "cell_type": "markdown",
   "id": "e96a4978-448a-4d3d-ab35-73d50b2634f2",
   "metadata": {
    "tags": []
   },
   "source": [
    "## 12. What do you mean by the \\d, \\w, and \\s shorthand character classes signify in regular expressions?"
   ]
  },
  {
   "cell_type": "markdown",
   "id": "f176a6be-92e9-4fa4-972a-906803f8d49d",
   "metadata": {},
   "source": [
    "* `\\w` – Matches a word character equivalent to [a-zA-Z0-9_]\n",
    "* `\\d` – Matches digit character equivalent to [0-9]\n",
    "* `\\s` – Matches whitespace character (space, tab, newline, etc.)"
   ]
  },
  {
   "cell_type": "markdown",
   "id": "be49c417-cf73-4965-b717-ba7d177ecbed",
   "metadata": {
    "tags": []
   },
   "source": [
    "## 13. What do means by \\D, \\W, and \\S shorthand character classes signify in regular expressions?"
   ]
  },
  {
   "cell_type": "markdown",
   "id": "0d7f9f6b-6230-4712-bc7c-c35f6591c9d9",
   "metadata": {},
   "source": [
    "* `\\W` – Matches any non-alphanumeric character equivalent to [^a-zA-Z0-9_]\n",
    "* `\\D` – Matches any non-digit character, this is equivalent to the set class [^0-9]\n",
    "* `\\S` – Matches any non-whitespace character"
   ]
  },
  {
   "cell_type": "markdown",
   "id": "0c7d1fc4-d11a-4005-81ba-83c067933935",
   "metadata": {
    "tags": []
   },
   "source": [
    "## 14. What is the difference between `.*?` and `.*`?"
   ]
  },
  {
   "cell_type": "markdown",
   "id": "a6f76934-9b26-417a-beca-5d40327d2871",
   "metadata": {},
   "source": [
    "`.*` is a Greedy mode, which returns the longest string that meets the condition.  \n",
    "Whereas `.*? `is a non greedy mode which returns the shortest string that meets the condition."
   ]
  },
  {
   "cell_type": "markdown",
   "id": "631c464d-f122-425a-9e7a-711947bd7a8b",
   "metadata": {
    "tags": []
   },
   "source": [
    "## 15. What is the syntax for matching both numbers and lowercase letters with a character class?"
   ]
  },
  {
   "cell_type": "markdown",
   "id": "3978c3ef-298d-4da2-ba17-8a0111556895",
   "metadata": {},
   "source": [
    "Use either `[a-z0-9]` or `[0-9a-z]`"
   ]
  },
  {
   "cell_type": "markdown",
   "id": "72f8c675-8505-4f72-937b-6be11eea1099",
   "metadata": {
    "tags": []
   },
   "source": [
    "## 16. What is the procedure for making a normal expression in regax case insensitive?"
   ]
  },
  {
   "cell_type": "markdown",
   "id": "6e3c862e-6949-4ac2-bd3d-50c98d27c7cf",
   "metadata": {},
   "source": [
    " We can pass `re.IGNORECASE` as a flag to make a normal expression case insensitive"
   ]
  },
  {
   "cell_type": "markdown",
   "id": "147b5e3d-efe3-48ee-b2ca-abbbeafddb36",
   "metadata": {
    "tags": []
   },
   "source": [
    "## 17. What does the . character normally match? What does it match if re.DOTALL is passed as 2nd argument in re.compile()?"
   ]
  },
  {
   "cell_type": "markdown",
   "id": "8ffe0ad3-5853-4db4-9191-f8cc9bf5968c",
   "metadata": {},
   "source": [
    "Dot `.` character matches everything in input except newline character `.`. By passing `re.DOTALL` as a flag to `re.compile()`, you can make the dot character match all characters, including the newline character."
   ]
  },
  {
   "cell_type": "markdown",
   "id": "98422a59-eaeb-4624-8601-5c5583b0a724",
   "metadata": {
    "tags": []
   },
   "source": [
    "## 18. If numReg = re.compile(r&#39;\\d+&#39;), what will numRegex.sub(&#39;X&#39;, &#39;11 drummers, 10 pipers, five rings, 4hen&#39;) return?"
   ]
  },
  {
   "cell_type": "markdown",
   "id": "77f47d64-263e-403a-8e21-c5abce0780af",
   "metadata": {},
   "source": [
    "Output : **'X drummers, X pipers, five rings, X hen'**"
   ]
  },
  {
   "cell_type": "code",
   "execution_count": 47,
   "id": "19ec4cc6-e9b2-4854-8c56-56ba8a0346bb",
   "metadata": {},
   "outputs": [
    {
     "data": {
      "text/plain": [
       "'X drummers, X pipers, five rings, X hen'"
      ]
     },
     "execution_count": 47,
     "metadata": {},
     "output_type": "execute_result"
    }
   ],
   "source": [
    "import re\n",
    "numReg = re.compile(r'\\d+')\n",
    "numReg.sub('X', '11 drummers, 10 pipers, five rings, 4 hen')"
   ]
  },
  {
   "cell_type": "markdown",
   "id": "470a9e77-d904-49fb-a401-4aec7ce20661",
   "metadata": {
    "tags": []
   },
   "source": [
    "## 19. What does passing re.VERBOSE as the 2nd argument to re.compile() allow to do?"
   ]
  },
  {
   "cell_type": "markdown",
   "id": "fa30a27c-214e-494c-b35e-f8e182552a82",
   "metadata": {},
   "source": [
    "`re.VERBOSE` will allow to add whitespace and comments to string passed to `re.compile()`"
   ]
  },
  {
   "cell_type": "code",
   "execution_count": 48,
   "id": "29d8922c-997f-4327-8fe8-45bfebdd06c6",
   "metadata": {},
   "outputs": [],
   "source": [
    "# Without Using VERBOSE\n",
    "regex_email = re.compile(r'^([a-z0-9_\\.-]+)@([0-9a-z\\.-]+)\\.([a-z\\.]{2, 6})$', re.IGNORECASE)\n",
    " \n",
    "# Using VERBOSE\n",
    "regex_email = re.compile(r\"\"\"\n",
    "                            ^([a-z0-9_\\.-]+)              # local Part like username\n",
    "                            @                             # single @ sign \n",
    "                            ([0-9a-z\\.-]+)                # Domain name like google\n",
    "                            \\.                            # single Dot .\n",
    "                            ([a-z]{2,6})$                 # Top level Domain  like com/in/org\n",
    "                         \"\"\",re.VERBOSE | re.IGNORECASE)  "
   ]
  },
  {
   "cell_type": "markdown",
   "id": "d19f94d7-778d-45e9-9dc8-6b7971af6c9d",
   "metadata": {
    "tags": []
   },
   "source": [
    "## 20. How would you write a regex that match a number with comma for every three digits? It mustmatch the given following:\n",
    "&#39;1,234&#39;  \n",
    "&#39;6,368,745&#39;  \n",
    "\n",
    "but not the following:  \n",
    "&#39;12,34,567&#39; (which has only two digits between the commas)  \n",
    "&#39;1234&#39; (which lacks commas)  "
   ]
  },
  {
   "cell_type": "code",
   "execution_count": 49,
   "id": "2ca8bdde-03d4-4168-a795-2e15ec40af9d",
   "metadata": {},
   "outputs": [
    {
     "name": "stdout",
     "output_type": "stream",
     "text": [
      "Output: 42 -> <re.Match object; span=(0, 2), match='42'>\n",
      "Output: 1,234 -> <re.Match object; span=(0, 5), match='1,234'>\n",
      "Output: 6,368,745 -> <re.Match object; span=(0, 9), match='6,368,745'>\n",
      "Output: 12,34,567 -> None\n",
      "Output: 1234 -> None\n"
     ]
    }
   ],
   "source": [
    "import re\n",
    "pattern = r'^\\d{1,3}(,\\d{3})*$'\n",
    "pagex = re.compile(pattern)\n",
    "for ele in ['42','1,234', '6,368,745','12,34,567','1234']:\n",
    "    print('Output:',ele, '->', pagex.search(ele))"
   ]
  },
  {
   "cell_type": "markdown",
   "id": "afbb7acd-afe7-43c4-80af-f515ef9448a9",
   "metadata": {
    "tags": []
   },
   "source": [
    "  \n",
    "## 21. How would you write a regex that matches the full name of someone whose last name is Watanabe? You can assume that the first name that comes before it will always be one word that begins with a capital letter. The regex must match the following:\n",
    "&#39;Haruto Watanabe&#39;   \n",
    "&#39;Alice Watanabe&#39;  \n",
    "&#39;RoboCop Watanabe&#39;  \n",
    "but not the following:  \n",
    "&#39;haruto Watanabe&#39; (where the first name is not capitalized)  \n",
    "&#39;Mr. Watanabe&#39; (where the preceding word has a nonletter character)  \n",
    "&#39;Watanabe&#39; (which has no first name)  \n",
    "&#39;Haruto watanabe&#39; (where Watanabe is not capitalized) "
   ]
  },
  {
   "cell_type": "markdown",
   "id": "b0e6b3ea-1d99-496d-8b60-898891a408f3",
   "metadata": {},
   "source": [
    "**Ans:** Using `pattern = r'[A-Z]{1}[a-z]*\\sWatanabe'`"
   ]
  },
  {
   "cell_type": "code",
   "execution_count": 50,
   "id": "b1e3d230-d809-47ef-a2f0-21832d928a58",
   "metadata": {},
   "outputs": [
    {
     "name": "stdout",
     "output_type": "stream",
     "text": [
      "Output:  Haruto Watanabe -> <re.Match object; span=(0, 15), match='Haruto Watanabe'>\n",
      "Output:  Alice Watanabe -> <re.Match object; span=(0, 14), match='Alice Watanabe'>\n",
      "Output:  RoboCop Watanabe -> <re.Match object; span=(4, 16), match='Cop Watanabe'>\n",
      "Output:  haruto Watanabe -> None\n",
      "Output:  Mr. Watanabe -> None\n",
      "Output:  Watanabe -> None\n",
      "Output:  Haruto watanabe -> None\n"
     ]
    }
   ],
   "source": [
    "import re\n",
    "pattern = r'[A-Z]{1}[a-z]*\\sWatanabe'\n",
    "namex = re.compile(pattern)\n",
    "for name in ['Haruto Watanabe','Alice Watanabe','RoboCop Watanabe','haruto Watanabe','Mr. Watanabe','Watanabe','Haruto watanabe']:\n",
    "    print('Output: ',name,'->',namex.search(name))"
   ]
  },
  {
   "cell_type": "markdown",
   "id": "005c1489-f98f-408a-83f0-f638b9b585fd",
   "metadata": {
    "tags": []
   },
   "source": [
    " \n",
    "\n",
    "## 22. How would you write a regex that matches a sentence where the first word is either Alice, Bob, or Carol; the second word is either eats, pets, or throws; the third word is apples, cats, or baseballs; and the sentence ends with a period? This regex should be case-insensitive. It must match the following:\n",
    "&#39;Alice eats apples.&#39;  \n",
    "&#39;Bob pets cats.&#39;  \n",
    "&#39;Carol throws baseballs.&#39;  \n",
    "&#39;Alice throws Apples.&#39;  \n",
    "&#39;BOB EATS CATS.&#39;  \n",
    "but not the following:  \n",
    "&#39;RoboCop eats apples.&#39;  \n",
    "&#39;ALICE THROWS FOOTBALLS.&#39;   \n",
    "&#39;Carol eats 7 cats.&#39;  "
   ]
  },
  {
   "cell_type": "markdown",
   "id": "4d51e377-6fe5-47bd-ab68-4ca97256f09a",
   "metadata": {
    "jp-MarkdownHeadingCollapsed": true,
    "tags": []
   },
   "source": [
    "**Ans:**   \n",
    "`pattern = r'(Alice|Bob|Carol)\\s(eats|pets|throws)\\s(apples|cats|baseballs)\\.`"
   ]
  },
  {
   "cell_type": "code",
   "execution_count": 51,
   "id": "1025e6f7",
   "metadata": {},
   "outputs": [
    {
     "name": "stdout",
     "output_type": "stream",
     "text": [
      "Output:  Alice eats apples. -> <re.Match object; span=(0, 18), match='Alice eats apples.'>\n",
      "Output:  Bob pets cats. -> <re.Match object; span=(0, 14), match='Bob pets cats.'>\n",
      "Output:  Carol throws baseballs. -> <re.Match object; span=(0, 23), match='Carol throws baseballs.'>\n",
      "Output:  Alice throws Apples. -> <re.Match object; span=(0, 20), match='Alice throws Apples.'>\n",
      "Output:  BOB EATS CATS. -> <re.Match object; span=(0, 14), match='BOB EATS CATS.'>\n",
      "Output:  RoboCop eats apples. -> None\n",
      "Output:  ALICE THROWS FOOTBALLS. -> None\n",
      "Output:  Carol eats 7 cats. -> None\n"
     ]
    }
   ],
   "source": [
    "import re\n",
    "pattern = r'(Alice|Bob|Carol)\\s(eats|pets|throws)\\s(apples|cats|baseballs)\\.'\n",
    "casex = re.compile(pattern,re.IGNORECASE)\n",
    "for ele in ['Alice eats apples.','Bob pets cats.','Carol throws baseballs.','Alice throws Apples.','BOB EATS CATS.','RoboCop eats apples.'\n",
    ",'ALICE THROWS FOOTBALLS.','Carol eats 7 cats.']:\n",
    "    print('Output: ',ele,'->',casex.search(ele))"
   ]
  }
 ],
 "metadata": {
  "kernelspec": {
   "display_name": "Python 3 (ipykernel)",
   "language": "python",
   "name": "python3"
  },
  "language_info": {
   "codemirror_mode": {
    "name": "ipython",
    "version": 3
   },
   "file_extension": ".py",
   "mimetype": "text/x-python",
   "name": "python",
   "nbconvert_exporter": "python",
   "pygments_lexer": "ipython3",
   "version": "3.10.5"
  }
 },
 "nbformat": 4,
 "nbformat_minor": 5
}
