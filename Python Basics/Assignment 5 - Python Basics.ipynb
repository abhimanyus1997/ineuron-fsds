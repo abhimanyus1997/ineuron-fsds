{
 "cells": [
  {
   "cell_type": "markdown",
   "id": "fe7d642a",
   "metadata": {},
   "source": [
    "# Assignment 5 - Python Basics"
   ]
  },
  {
   "cell_type": "markdown",
   "id": "e9af0a67",
   "metadata": {},
   "source": [
    "## 1. What does an empty dictionary&#39;s code look like?\n",
    "**Ans:** It looks like `d = {} or d = dict()`"
   ]
  },
  {
   "cell_type": "markdown",
   "id": "b5d42ddf",
   "metadata": {},
   "source": [
    "## 2. What is the value of a dictionary value with the key &#39;foo&#39; and the value 42?\n",
    "Ans: Using the variable d to store dictionary \n",
    "```Python\n",
    "d = {\"foo\" : 42}\n",
    "```"
   ]
  },
  {
   "cell_type": "markdown",
   "id": "d097fb41",
   "metadata": {},
   "source": [
    "## 3. What is the most significant distinction between a dictionary and a list?\n",
    "__Ans:__\n",
    "* **Dictionary** is a hashed structure of key and value pairs, enclosed in `{}`\n",
    "* **List** is an Ordered array/collection with indexed values, enclosed in `[]` and "
   ]
  },
  {
   "cell_type": "markdown",
   "id": "6676580e",
   "metadata": {},
   "source": [
    "## 4. What happens if you try to access spam[&#39;foo&#39;] if spam is {&#39;bar&#39;: 100}?\n",
    "**ANs** It will give `KeyError: 'foo'`"
   ]
  },
  {
   "cell_type": "code",
   "execution_count": 37,
   "id": "3644ed6b",
   "metadata": {},
   "outputs": [
    {
     "ename": "KeyError",
     "evalue": "'foo'",
     "output_type": "error",
     "traceback": [
      "\u001b[1;31m---------------------------------------------------------------------------\u001b[0m",
      "\u001b[1;31mKeyError\u001b[0m                                  Traceback (most recent call last)",
      "Input \u001b[1;32mIn [37]\u001b[0m, in \u001b[0;36m<module>\u001b[1;34m\u001b[0m\n\u001b[0;32m      1\u001b[0m spam \u001b[38;5;241m=\u001b[39m {\u001b[38;5;124m'\u001b[39m\u001b[38;5;124mbar\u001b[39m\u001b[38;5;124m'\u001b[39m : \u001b[38;5;241m100\u001b[39m}\n\u001b[1;32m----> 3\u001b[0m \u001b[43mspam\u001b[49m\u001b[43m[\u001b[49m\u001b[38;5;124;43m'\u001b[39;49m\u001b[38;5;124;43mfoo\u001b[39;49m\u001b[38;5;124;43m'\u001b[39;49m\u001b[43m]\u001b[49m\n",
      "\u001b[1;31mKeyError\u001b[0m: 'foo'"
     ]
    }
   ],
   "source": [
    "spam = {'bar' : 100}\n",
    "\n",
    "spam['foo']"
   ]
  },
  {
   "cell_type": "markdown",
   "id": "61f6371b",
   "metadata": {},
   "source": [
    "## 5. If a dictionary is stored in spam, what is the difference between the expressions &#39;cat&#39; in spam and &#39;cat&#39; in spam.keys()?\n",
    "**Ans**: `spam.keys()` method returns as dict_keys datatype (similar to list) of 'key values'. and it takes no arguments\n",
    "\n",
    "while `spam` will return both key-value pair as dictionary"
   ]
  },
  {
   "cell_type": "code",
   "execution_count": 38,
   "id": "4ff274d6",
   "metadata": {},
   "outputs": [
    {
     "name": "stdout",
     "output_type": "stream",
     "text": [
      "spam returns: \t{'bar': 100}\n",
      "spam datatype: \t<class 'dict'>\n",
      "\n",
      "spam.keys() returns: \tdict_keys(['bar'])\n",
      "spam.keys() datatype: \t<class 'dict_keys'>\n"
     ]
    }
   ],
   "source": [
    "print(f\"spam returns: \\t{spam}\")\n",
    "print(f\"spam datatype: \\t{type(spam)}\")\n",
    "\n",
    "print(f\"\\nspam.keys() returns: \\t{spam.keys()}\")\n",
    "print(f\"spam.keys() datatype: \\t{type(spam.keys())}\")\n"
   ]
  },
  {
   "cell_type": "markdown",
   "id": "45e5dc44",
   "metadata": {},
   "source": [
    "## 6. If a dictionary is stored in spam, what is the difference between the expressions &#39;cat&#39; in spam and &#39;cat&#39; in spam.values()?\n",
    "**Ans:** `spam.values()` returns a list of all the values in the dictionary"
   ]
  },
  {
   "cell_type": "code",
   "execution_count": 39,
   "id": "6611d6ca",
   "metadata": {},
   "outputs": [
    {
     "name": "stdout",
     "output_type": "stream",
     "text": [
      "\n",
      "spam.values() returns: \tdict_values([100])\n",
      "spam.values() datatype: <class 'dict_values'>\n"
     ]
    }
   ],
   "source": [
    "print(f\"\\nspam.values() returns: \\t{spam.values()}\")\n",
    "print(f\"spam.values() datatype: {type(spam.values())}\")"
   ]
  },
  {
   "cell_type": "markdown",
   "id": "f81d60c9",
   "metadata": {},
   "source": [
    "## 7. What is a shortcut for the following code? if &#39;color&#39; not in spam: spam[&#39;color&#39;] = &#39;black&#39;\n",
    "**Ans:**  We can use `setdefault() method` to returns the value of the item with the specified key. If the key does not exist, insert the key, with the specified value, \n",
    "\n",
    "```Python\n",
    "spam.setdefault('color','black')\n",
    "```"
   ]
  },
  {
   "cell_type": "markdown",
   "id": "bd526cc1",
   "metadata": {},
   "source": [
    "## 8. How do you &quot;pretty print&quot; dictionary values using which module and function?\n",
    "**Ans:** We can pretty print dictionary by a variety of methods\n",
    "\n",
    "1. **Using built-in `pprint` library**\n",
    "1. **Using built-in `json.dumps()`**\n",
    "1. **Using built-in `yaml.dumps()`**"
   ]
  },
  {
   "cell_type": "code",
   "execution_count": 40,
   "id": "0c95de47",
   "metadata": {},
   "outputs": [
    {
     "name": "stdout",
     "output_type": "stream",
     "text": [
      "Without preety print:\n",
      " [{'Name': 'John', 'Age': '23', 'Country': 'USA'}, {'Name': 'Jose', 'Age': '44', 'Country': 'Spain'}, {'Name': 'Anne', 'Age': '29', 'Country': 'UK'}, {'Name': 'Lee', 'Age': '35', 'Country': 'Japan'}] \n",
      " ------------------------------------------------------------\n",
      "\n",
      "With pprint:\n",
      "\n",
      "[{'Age': '23', 'Country': 'USA', 'Name': 'John'},\n",
      " {'Age': '44', 'Country': 'Spain', 'Name': 'Jose'},\n",
      " {'Age': '29', 'Country': 'UK', 'Name': 'Anne'},\n",
      " {'Age': '35', 'Country': 'Japan', 'Name': 'Lee'}]\n"
     ]
    }
   ],
   "source": [
    "# Using pprint\n",
    "\n",
    "import pprint\n",
    "dct_arr = [\n",
    "  {'Name': 'John', 'Age': '23', 'Country': 'USA'},\n",
    "  {'Name': 'Jose', 'Age': '44', 'Country': 'Spain'},\n",
    "  {'Name': 'Anne', 'Age': '29', 'Country': 'UK'},\n",
    "  {'Name': 'Lee', 'Age': '35', 'Country': 'Japan'}\n",
    "]\n",
    "\n",
    "print(\"Without preety print:\\n\",dct_arr,\"\\n\",\"-\"*60)\n",
    "\n",
    "\n",
    "print(\"\\nWith pprint:\\n\")\n",
    "pprint.pprint(dct_arr)"
   ]
  },
  {
   "cell_type": "code",
   "execution_count": 41,
   "id": "29b26be4",
   "metadata": {},
   "outputs": [
    {
     "name": "stdout",
     "output_type": "stream",
     "text": [
      "[\n",
      "    {\n",
      "        \"Name\": \"John\",\n",
      "        \"Age\": \"23\",\n",
      "        \"Country\": \"USA\"\n",
      "    },\n",
      "    {\n",
      "        \"Name\": \"Jose\",\n",
      "        \"Age\": \"44\",\n",
      "        \"Country\": \"Spain\"\n",
      "    },\n",
      "    {\n",
      "        \"Name\": \"Anne\",\n",
      "        \"Age\": \"29\",\n",
      "        \"Country\": \"UK\"\n",
      "    },\n",
      "    {\n",
      "        \"Name\": \"Lee\",\n",
      "        \"Age\": \"35\",\n",
      "        \"Country\": \"Japan\"\n",
      "    }\n",
      "]\n"
     ]
    }
   ],
   "source": [
    "# Using Json modules' dump() function\n",
    "\n",
    "import json\n",
    "print(json.dumps(dct_arr, sort_keys=False, indent=4))"
   ]
  },
  {
   "cell_type": "code",
   "execution_count": 42,
   "id": "caba4bef",
   "metadata": {},
   "outputs": [
    {
     "name": "stdout",
     "output_type": "stream",
     "text": [
      "- Name: John\n",
      "  Age: '23'\n",
      "  Country: USA\n",
      "- Name: Jose\n",
      "  Age: '44'\n",
      "  Country: Spain\n",
      "- Name: Anne\n",
      "  Age: '29'\n",
      "  Country: UK\n",
      "- Name: Lee\n",
      "  Age: '35'\n",
      "  Country: Japan\n",
      "\n"
     ]
    }
   ],
   "source": [
    "import yaml\n",
    "print(yaml.dump(dct_arr, sort_keys=False, default_flow_style=False))"
   ]
  }
 ],
 "metadata": {
  "kernelspec": {
   "display_name": "Python 3 (ipykernel)",
   "language": "python",
   "name": "python3"
  },
  "language_info": {
   "codemirror_mode": {
    "name": "ipython",
    "version": 3
   },
   "file_extension": ".py",
   "mimetype": "text/x-python",
   "name": "python",
   "nbconvert_exporter": "python",
   "pygments_lexer": "ipython3",
   "version": "3.10.5"
  }
 },
 "nbformat": 4,
 "nbformat_minor": 5
}
